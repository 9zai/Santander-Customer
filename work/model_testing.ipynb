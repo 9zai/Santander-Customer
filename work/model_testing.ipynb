{
 "cells": [
  {
   "cell_type": "code",
   "execution_count": 1,
   "metadata": {},
   "outputs": [
    {
     "name": "stderr",
     "output_type": "stream",
     "text": [
      "/Library/Frameworks/Python.framework/Versions/3.6/lib/python3.6/site-packages/lightgbm/__init__.py:46: UserWarning: Starting from version 2.2.1, the library file in distribution wheels for macOS is built by the Apple Clang (Xcode_8.3.3) compiler.\n",
      "This means that in case of installing LightGBM from PyPI via the ``pip install lightgbm`` command, you don't need to install the gcc compiler anymore.\n",
      "Instead of that, you need to install the OpenMP library, which is required for running LightGBM on the system with the Apple Clang compiler.\n",
      "You can install the OpenMP library by the following command: ``brew install libomp``.\n",
      "  \"You can install the OpenMP library by the following command: ``brew install libomp``.\", UserWarning)\n"
     ]
    }
   ],
   "source": [
    "import pandas as pd\n",
    "import numpy as np\n",
    "from sklearn.model_selection import KFold\n",
    "from sklearn.linear_model import LogisticRegression\n",
    "from sklearn.svm import SVC\n",
    "from sklearn.metrics import auc,roc_curve\n",
    "from sklearn.ensemble import RandomForestClassifier,RandomTreesEmbedding\n",
    "from sklearn.pipeline import Pipeline\n",
    "from sklearn.decomposition import LatentDirichletAllocation\n",
    "from lightgbm import LGBMClassifier\n",
    "from xgboost import XGBClassifier\n",
    "\n",
    "import matplotlib.pyplot as plt\n",
    "%matplotlib inline\n",
    "\n",
    "import heapq\n",
    "from random import random,randint\n",
    "\n",
    "nrows = 5000"
   ]
  },
  {
   "cell_type": "code",
   "execution_count": null,
   "metadata": {},
   "outputs": [],
   "source": []
  },
  {
   "cell_type": "code",
   "execution_count": 2,
   "metadata": {},
   "outputs": [],
   "source": [
    "#linux_file = \"../data/min_max_train.csv\"\n",
    "mac_file = \"../data/scale_train.csv\"\n",
    "\n",
    "train = pd.read_csv(mac_file,nrows=nrows)\n",
    "train.drop('Unnamed: 0',inplace= True,axis=1)"
   ]
  },
  {
   "cell_type": "code",
   "execution_count": 3,
   "metadata": {},
   "outputs": [],
   "source": [
    "def sub_sample(label_1,label_0,low_class_ratio):\n",
    "    res = pd.DataFrame(label_1)\n",
    "    n = int(res.shape[0] / low_class_ratio) - res.shape[0]\n",
    "    samples = label_0.sample(n = n)\n",
    "    res = res.append(samples)\n",
    "    return(res)\n",
    "\n",
    "def smte(label_1,label_0,low_class_ratio,N = 5,k = 8):\n",
    "    res = pd.DataFrame(label_0)\n",
    "    needs_create = int(res.shape[0] / (1-low_class_ratio)) - label_0.shape[0] - label_1.shape[0]\n",
    "    res = res.append(label_1)\n",
    "    selected_n = needs_create//N\n",
    "    if selected_n > label_1.shape[0]:\n",
    "        N = needs_create // label_1.shape[0]\n",
    "        k = int(1.5 * N)\n",
    "        selected_sample = label_1\n",
    "    else:\n",
    "        selected_sample = label_1.sample(n = selected_n)\n",
    "\n",
    "    nrows = selected_sample.shape[0]\n",
    "    ncols = label_1.shape[0]\n",
    "\n",
    "    dis = [[0 for j in range(ncols)] for i in range(nrows)]\n",
    "    added_df = pd.DataFrame()\n",
    "\n",
    "    for i in range(nrows):\n",
    "        knn = []\n",
    "        for j in range(ncols):\n",
    "            dis = selected_sample.iloc[i,1:].dot(label_1.iloc[j,1:])\n",
    "            if dis == 0:\n",
    "                continue\n",
    "            else:\n",
    "                if len(knn) >= k:\n",
    "                    heapq.heappushpop(knn,(-dis,j))\n",
    "                else:\n",
    "                    heapq.heappush(knn,(-dis,j))\n",
    "\n",
    "        for i in range(N):\n",
    "            nn = label_1.iloc[knn[randint(0,k-1)][1],1:]\n",
    "\n",
    "            create_sample = selected_sample.iloc[i,1:] + random() * nn\n",
    "            added_df = added_df.append(create_sample,ignore_index=True)\n",
    "\n",
    "    added_df['target'] = 1\n",
    "    res = res.append(added_df)\n",
    "    return(res)\n",
    "    \n",
    "\n",
    "def data_augmentation(train,method = 'smte',low_class_ratio = 0.5):\n",
    "    data_1 = train[train['target'] == 1]\n",
    "    data_0 = train[train['target'] == 0]\n",
    "    if method == 'sub_sample':\n",
    "        return(sub_sample(data_1,data_0,low_class_ratio=low_class_ratio))\n",
    "    elif method == 'smte':\n",
    "        return (smte(data_1,data_0,low_class_ratio=low_class_ratio))\n",
    "    elif method == 'none':\n",
    "        return(train)\n",
    "\n",
    "def kf_with_model(data,model,balance_method = 'none',balance_rate = 0.5):\n",
    "    kf = KFold(5,shuffle=True)\n",
    "    res = pd.DataFrame()\n",
    "\n",
    "    for train_index,test_index in kf.split(data):\n",
    "        model_train = data.iloc[train_index]\n",
    "        model_test = data.iloc[test_index]\n",
    "        \n",
    "        sample_train = data_augmentation(model_train,method = balance_method,low_class_ratio =balance_rate)\n",
    "        train_y = sample_train['target']\n",
    "        train_x = sample_train.drop('target',axis = 1)\n",
    "\n",
    "        test_y = model_test['target']\n",
    "        test_x = model_test.drop('target', axis = 1)\n",
    "\n",
    "        model.fit(train_x,train_y)\n",
    "\n",
    "        pred_label = model.predict(test_x)\n",
    "        pred_prob = model.predict_proba(test_x)\n",
    "\n",
    "        preds = pd.DataFrame()\n",
    "        preds['label'] = test_y\n",
    "        preds['pred'] = pred_label\n",
    "        preds['prob'] = pred_prob[:,1]\n",
    "        res = res.append(preds)\n",
    "    \n",
    "    print('{model_name} done'.format(model_name = str(model.__class__)))\n",
    "    return(res)"
   ]
  },
  {
   "cell_type": "code",
   "execution_count": 4,
   "metadata": {},
   "outputs": [],
   "source": [
    "def plotGraph(df):\n",
    "    predicts_list = df.columns[1:]\n",
    "    aucs = pd.DataFrame(columns=['models','auc_score'])\n",
    "    y = df['label']\n",
    "    for res in predicts_list:\n",
    "        fpr,tpr,thres = roc_curve(y,df[res])\n",
    "        auc_score = auc(fpr,tpr)\n",
    "        aucs = aucs.append({'models':res,'auc_score':auc_score},ignore_index=True)\n",
    "        \n",
    "        plt.plot(fpr,tpr,lw=1, alpha=0.3,label = res+' : '+str(round(auc_score,3)))\n",
    "    \n",
    "    plt.legend(loc='lower right')\n",
    "    plt.show()\n",
    "    return(aucs)"
   ]
  },
  {
   "cell_type": "code",
   "execution_count": 11,
   "metadata": {
    "scrolled": true
   },
   "outputs": [
    {
     "name": "stdout",
     "output_type": "stream",
     "text": [
      "<class 'sklearn.linear_model.logistic.LogisticRegression'> done\n",
      "<class 'sklearn.linear_model.logistic.LogisticRegression'> done\n"
     ]
    }
   ],
   "source": [
    "base_line_res = kf_with_model(train,LogisticRegression(C=0.01,solver='lbfgs'))\n",
    "balance_line_res = kf_with_model(train,LogisticRegression(C=0.01,class_weight = 'balanced',solver='lbfgs'))\n",
    "#smte_balance = kf_with_model(train,LogisticRegression(C=0.01,solver='lbfgs'),\n",
    "#                                 balance_method='smte',balance_rate=0.5)\n",
    "\n",
    "#base_svc_res = kf_with_model(train,SVC(probability=True))\n",
    "#balance_svc_res = kf_with_model(train,SVC(C=0.1,class_weight='balanced',probability=True,gamma = 'auto',verbose = True))\n",
    "\n",
    "#rf_base_res = kf_with_model(train,RandomForestClassifier(max_depth=5))\n",
    "#lgb_res = kf_with_model(train,LGBMClassifier(objective='binary',class_weight='balanced'))\n",
    "#param_lgb_res = kf_with_model(train,LGBMClassifier(objective='binary'),\n",
    "#                              balance_method='sub_sample',balance_rate = 0.3)\n",
    "#xgb_base = kf_with_model(train,XGBClassifier())"
   ]
  },
  {
   "cell_type": "code",
   "execution_count": 27,
   "metadata": {},
   "outputs": [
    {
     "name": "stdout",
     "output_type": "stream",
     "text": [
      "<class 'lightgbm.sklearn.LGBMClassifier'> done\n"
     ]
    }
   ],
   "source": [
    "param = {\n",
    "    'subsample_freq':5,\n",
    "    'subsample':0.335,\n",
    "    'learning_rate': 0.0083,\n",
    "    'num_leaves': 13,\n",
    "    'objective': 'binary',\n",
    "    'verbose':-1, \n",
    "    'min_child_samples': 80,\n",
    "    'feature_fraction': 0.041\n",
    "}\n",
    "lgb_res = kf_with_model(train,LGBMClassifier(**param))"
   ]
  },
  {
   "cell_type": "code",
   "execution_count": 28,
   "metadata": {},
   "outputs": [],
   "source": [
    "result_df = pd.DataFrame()\n",
    "result_df['label'] = train['target']"
   ]
  },
  {
   "cell_type": "code",
   "execution_count": 29,
   "metadata": {},
   "outputs": [],
   "source": [
    "result_df['base_prob'] = base_line_res['prob']\n",
    "result_df['class_balance_prob'] = balance_line_res['prob']\n",
    "#result_df['smte_prob'] = smte_balance['prob']\n",
    "\n",
    "#result_df['svc_prob'] = base_svc_res['prob']\n",
    "#result_df['ba_svc_prob'] = balance_svc_res['prob']\n",
    "result_df['lgb_prob'] = lgb_res['prob']\n",
    "#result_df['param_lgb_prob'] = param_lgb_res['prob']\n",
    "#result_df['xgb_prob'] = xgb_base['prob']\n",
    "\n",
    "#result_df['rf_base_prob'] = rf_base_res['prob']\n"
   ]
  },
  {
   "cell_type": "code",
   "execution_count": null,
   "metadata": {},
   "outputs": [],
   "source": []
  },
  {
   "cell_type": "code",
   "execution_count": null,
   "metadata": {},
   "outputs": [],
   "source": []
  },
  {
   "cell_type": "code",
   "execution_count": 30,
   "metadata": {},
   "outputs": [
    {
     "data": {
      "image/png": "[encoded data removed]",
      "text/plain": [
       "<Figure size 432x288 with 1 Axes>"
      ]
     },
     "metadata": {},
     "output_type": "display_data"
    },
    {
     "data": {
      "text/html": [
       "<div>\n",
       "<style scoped>\n",
       "    .dataframe tbody tr th:only-of-type {\n",
       "        vertical-align: middle;\n",
       "    }\n",
       "\n",
       "    .dataframe tbody tr th {\n",
       "        vertical-align: top;\n",
       "    }\n",
       "\n",
       "    .dataframe thead th {\n",
       "        text-align: right;\n",
       "    }\n",
       "</style>\n",
       "<table border=\"1\" class=\"dataframe\">\n",
       "  <thead>\n",
       "    <tr style=\"text-align: right;\">\n",
       "      <th></th>\n",
       "      <th>models</th>\n",
       "      <th>auc_score</th>\n",
       "    </tr>\n",
       "  </thead>\n",
       "  <tbody>\n",
       "    <tr>\n",
       "      <th>0</th>\n",
       "      <td>base_prob</td>\n",
       "      <td>0.800820</td>\n",
       "    </tr>\n",
       "    <tr>\n",
       "      <th>1</th>\n",
       "      <td>class_balance_prob</td>\n",
       "      <td>0.818140</td>\n",
       "    </tr>\n",
       "    <tr>\n",
       "      <th>2</th>\n",
       "      <td>lgb_prob</td>\n",
       "      <td>0.742135</td>\n",
       "    </tr>\n",
       "  </tbody>\n",
       "</table>\n",
       "</div>"
      ],
      "text/plain": [
       "               models  auc_score\n",
       "0           base_prob   0.800820\n",
       "1  class_balance_prob   0.818140\n",
       "2            lgb_prob   0.742135"
      ]
     },
     "execution_count": 30,
     "metadata": {},
     "output_type": "execute_result"
    }
   ],
   "source": [
    "plotGraph(result_df)"
   ]
  },
  {
   "cell_type": "code",
   "execution_count": null,
   "metadata": {},
   "outputs": [],
   "source": []
  },
  {
   "cell_type": "code",
   "execution_count": null,
   "metadata": {},
   "outputs": [],
   "source": []
  },
  {
   "cell_type": "code",
   "execution_count": null,
   "metadata": {},
   "outputs": [],
   "source": []
  },
  {
   "cell_type": "code",
   "execution_count": null,
   "metadata": {},
   "outputs": [],
   "source": []
  },
  {
   "cell_type": "code",
   "execution_count": null,
   "metadata": {},
   "outputs": [],
   "source": []
  },
  {
   "cell_type": "code",
   "execution_count": null,
   "metadata": {},
   "outputs": [],
   "source": []
  },
  {
   "cell_type": "code",
   "execution_count": null,
   "metadata": {},
   "outputs": [],
   "source": []
  },
  {
   "cell_type": "code",
   "execution_count": null,
   "metadata": {},
   "outputs": [],
   "source": []
  },
  {
   "cell_type": "code",
   "execution_count": null,
   "metadata": {},
   "outputs": [],
   "source": []
  },
  {
   "cell_type": "code",
   "execution_count": null,
   "metadata": {},
   "outputs": [],
   "source": []
  }
 ],
 "metadata": {
  "kernelspec": {
   "display_name": "Python 3",
   "language": "python",
   "name": "python3"
  },
  "language_info": {
   "codemirror_mode": {
    "name": "ipython",
    "version": 3
   },
   "file_extension": ".py",
   "mimetype": "text/x-python",
   "name": "python",
   "nbconvert_exporter": "python",
   "pygments_lexer": "ipython3",
   "version": "3.6.4"
  }
 },
 "nbformat": 4,
 "nbformat_minor": 2
}
