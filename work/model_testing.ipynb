{
 "cells": [
  {
   "cell_type": "code",
   "execution_count": 1,
   "metadata": {},
   "outputs": [],
   "source": [
    "import pandas as pd\n",
    "import numpy as np\n",
    "from sklearn.model_selection import KFold\n",
    "from sklearn.linear_model import LogisticRegression\n",
    "from sklearn.svm import SVC\n",
    "from sklearn.metrics import auc,roc_curve\n",
    "from sklearn.ensemble import RandomForestClassifier,RandomTreesEmbedding\n",
    "from sklearn.pipeline import Pipeline\n",
    "from sklearn.decomposition import LatentDirichletAllocation\n",
    "\n",
    "import matplotlib.pyplot as plt\n",
    "%matplotlib inline"
   ]
  },
  {
   "cell_type": "code",
   "execution_count": null,
   "metadata": {},
   "outputs": [],
   "source": []
  },
  {
   "cell_type": "code",
   "execution_count": 2,
   "metadata": {},
   "outputs": [],
   "source": [
    "train = pd.read_csv(\"../data/scale_train.csv\",nrows=5000)\n",
    "train.drop('Unnamed: 0',inplace= True,axis=1)"
   ]
  },
  {
   "cell_type": "code",
   "execution_count": 3,
   "metadata": {},
   "outputs": [],
   "source": [
    "def kf_with_model(data,model):\n",
    "    kf = KFold(5)\n",
    "    res = pd.DataFrame()\n",
    "\n",
    "    for train_index,test_index in kf.split(data):\n",
    "        model_train = data.iloc[train_index]\n",
    "        model_test = data.iloc[test_index]\n",
    "\n",
    "        train_y = model_train['target']\n",
    "        train_x = model_train.drop('target',axis = 1)\n",
    "\n",
    "        test_y = model_test['target']\n",
    "        test_x = model_test.drop('target', axis = 1)\n",
    "\n",
    "        model.fit(train_x,train_y)\n",
    "\n",
    "        pred_label = model.predict(test_x)\n",
    "        pred_prob = model.predict_proba(test_x)\n",
    "\n",
    "        preds = pd.DataFrame()\n",
    "        preds['label'] = test_y\n",
    "        preds['pred'] = pred_label\n",
    "        preds['prob'] = pred_prob[:,1]\n",
    "        res = res.append(preds)\n",
    "    return(res)"
   ]
  },
  {
   "cell_type": "code",
   "execution_count": 4,
   "metadata": {},
   "outputs": [],
   "source": [
    "def plotGraph(df):\n",
    "    predicts_list = df.columns[1:]\n",
    "    aucs = pd.DataFrame(columns=['models','auc_score'])\n",
    "    y = df['label']\n",
    "    for res in predicts_list:\n",
    "        fpr,tpr,thres = roc_curve(y,df[res])\n",
    "        auc_score = auc(fpr,tpr)\n",
    "        aucs = aucs.append({'models':res,'auc_score':auc_score},ignore_index=True)\n",
    "        \n",
    "        plt.plot(fpr,tpr,lw=1, alpha=0.3,label = res+' : '+str(round(auc_score,3)))\n",
    "    \n",
    "    plt.legend(loc='lower right')\n",
    "    plt.show()\n",
    "    return(aucs)"
   ]
  },
  {
   "cell_type": "code",
   "execution_count": 6,
   "metadata": {},
   "outputs": [],
   "source": [
    "base_line_res = kf_with_model(train,LogisticRegression(C=0.01))\n",
    "balance_line_res = kf_with_model(train,LogisticRegression(C=0.01,class_weight = 'balanced'))\n",
    "base_svc_res = kf_with_model(train,SVC(probability=True))\n",
    "balance_svc_res = kf_with_model(train,SVC(C=0.01,class_weight='balanced',probability=True))\n",
    "\n",
    "#rf_base_res = kf_with_model(train,RandomForestClassifier(max_depth=5))"
   ]
  },
  {
   "cell_type": "code",
   "execution_count": null,
   "metadata": {},
   "outputs": [],
   "source": []
  },
  {
   "cell_type": "code",
   "execution_count": 7,
   "metadata": {},
   "outputs": [],
   "source": [
    "result_df = pd.DataFrame()\n",
    "result_df['label'] = train['target']"
   ]
  },
  {
   "cell_type": "code",
   "execution_count": 8,
   "metadata": {},
   "outputs": [],
   "source": [
    "result_df['base_prob'] = base_line_res['prob']\n",
    "result_df['balance_prob'] = balance_line_res['prob']\n",
    "result_df['svc_prob'] = base_svc_res['prob']\n",
    "result_df['ba_svc_prob'] = balance_svc_res['prob']\n",
    "\n",
    "#result_df['rf_base_prob'] = rf_base_res['prob']\n"
   ]
  },
  {
   "cell_type": "code",
   "execution_count": null,
   "metadata": {},
   "outputs": [],
   "source": []
  },
  {
   "cell_type": "code",
   "execution_count": null,
   "metadata": {},
   "outputs": [],
   "source": []
  },
  {
   "cell_type": "code",
   "execution_count": 9,
   "metadata": {},
   "outputs": [
    {
     "data": {
      "image/png": "[encoded data removed]",
      "text/plain": [
       "<Figure size 432x288 with 1 Axes>"
      ]
     },
     "metadata": {},
     "output_type": "display_data"
    },
    {
     "data": {
      "text/html": [
       "<div>\n",
       "<style scoped>\n",
       "    .dataframe tbody tr th:only-of-type {\n",
       "        vertical-align: middle;\n",
       "    }\n",
       "\n",
       "    .dataframe tbody tr th {\n",
       "        vertical-align: top;\n",
       "    }\n",
       "\n",
       "    .dataframe thead th {\n",
       "        text-align: right;\n",
       "    }\n",
       "</style>\n",
       "<table border=\"1\" class=\"dataframe\">\n",
       "  <thead>\n",
       "    <tr style=\"text-align: right;\">\n",
       "      <th></th>\n",
       "      <th>models</th>\n",
       "      <th>auc_score</th>\n",
       "    </tr>\n",
       "  </thead>\n",
       "  <tbody>\n",
       "    <tr>\n",
       "      <th>0</th>\n",
       "      <td>base_prob</td>\n",
       "      <td>0.786017</td>\n",
       "    </tr>\n",
       "    <tr>\n",
       "      <th>1</th>\n",
       "      <td>balance_prob</td>\n",
       "      <td>0.809742</td>\n",
       "    </tr>\n",
       "    <tr>\n",
       "      <th>2</th>\n",
       "      <td>svc_prob</td>\n",
       "      <td>0.809224</td>\n",
       "    </tr>\n",
       "    <tr>\n",
       "      <th>3</th>\n",
       "      <td>ba_svc_prob</td>\n",
       "      <td>0.430304</td>\n",
       "    </tr>\n",
       "  </tbody>\n",
       "</table>\n",
       "</div>"
      ],
      "text/plain": [
       "         models  auc_score\n",
       "0     base_prob   0.786017\n",
       "1  balance_prob   0.809742\n",
       "2      svc_prob   0.809224\n",
       "3   ba_svc_prob   0.430304"
      ]
     },
     "execution_count": 9,
     "metadata": {},
     "output_type": "execute_result"
    }
   ],
   "source": [
    "plotGraph(result_df)"
   ]
  },
  {
   "cell_type": "code",
   "execution_count": null,
   "metadata": {},
   "outputs": [],
   "source": []
  },
  {
   "cell_type": "code",
   "execution_count": null,
   "metadata": {},
   "outputs": [],
   "source": []
  },
  {
   "cell_type": "code",
   "execution_count": null,
   "metadata": {},
   "outputs": [],
   "source": []
  },
  {
   "cell_type": "code",
   "execution_count": null,
   "metadata": {},
   "outputs": [],
   "source": []
  },
  {
   "cell_type": "code",
   "execution_count": null,
   "metadata": {},
   "outputs": [],
   "source": []
  },
  {
   "cell_type": "code",
   "execution_count": null,
   "metadata": {},
   "outputs": [],
   "source": []
  }
 ],
 "metadata": {
  "kernelspec": {
   "display_name": "Python 3",
   "language": "python",
   "name": "python3"
  },
  "language_info": {
   "codemirror_mode": {
    "name": "ipython",
    "version": 3
   },
   "file_extension": ".py",
   "mimetype": "text/x-python",
   "name": "python",
   "nbconvert_exporter": "python",
   "pygments_lexer": "ipython3",
   "version": "3.6.4"
  }
 },
 "nbformat": 4,
 "nbformat_minor": 2
}
