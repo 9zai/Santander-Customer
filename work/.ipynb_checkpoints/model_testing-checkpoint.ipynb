{
 "cells": [
  {
   "cell_type": "code",
   "execution_count": 1,
   "metadata": {},
   "outputs": [],
   "source": [
    "import pandas as pd\n",
    "import numpy as np\n",
    "from sklearn.model_selection import KFold\n",
    "from sklearn.linear_model import LogisticRegression\n",
    "from sklearn.svm import SVC\n",
    "from sklearn.metrics import auc,roc_curve\n",
    "from sklearn.ensemble import RandomForestClassifier,RandomTreesEmbedding\n",
    "from sklearn.pipeline import Pipeline\n",
    "from sklearn.decomposition import LatentDirichletAllocation\n",
    "\n",
    "import matplotlib.pyplot as plt\n",
    "%matplotlib inline\n",
    "\n",
    "nrows = 50000"
   ]
  },
  {
   "cell_type": "code",
   "execution_count": null,
   "metadata": {},
   "outputs": [],
   "source": []
  },
  {
   "cell_type": "code",
   "execution_count": 2,
   "metadata": {},
   "outputs": [],
   "source": [
    "train = pd.read_csv(\"../data/min_max_train.csv\",nrows=nrows)\n",
    "train.drop('Unnamed: 0',inplace= True,axis=1)"
   ]
  },
  {
   "cell_type": "code",
   "execution_count": 3,
   "metadata": {},
   "outputs": [],
   "source": [
    "def kf_with_model(data,model):\n",
    "    kf = KFold(5)\n",
    "    res = pd.DataFrame()\n",
    "\n",
    "    for train_index,test_index in kf.split(data):\n",
    "        model_train = data.iloc[train_index]\n",
    "        model_test = data.iloc[test_index]\n",
    "\n",
    "        train_y = model_train['target']\n",
    "        train_x = model_train.drop('target',axis = 1)\n",
    "\n",
    "        test_y = model_test['target']\n",
    "        test_x = model_test.drop('target', axis = 1)\n",
    "\n",
    "        model.fit(train_x,train_y)\n",
    "\n",
    "        pred_label = model.predict(test_x)\n",
    "        pred_prob = model.predict_proba(test_x)\n",
    "\n",
    "        preds = pd.DataFrame()\n",
    "        preds['label'] = test_y\n",
    "        preds['pred'] = pred_label\n",
    "        preds['prob'] = pred_prob[:,1]\n",
    "        res = res.append(preds)\n",
    "    \n",
    "    print('{model_name} done'.format(model_name = str(model.__class__)))\n",
    "    return(res)"
   ]
  },
  {
   "cell_type": "code",
   "execution_count": 4,
   "metadata": {},
   "outputs": [],
   "source": [
    "def plotGraph(df):\n",
    "    predicts_list = df.columns[1:]\n",
    "    aucs = pd.DataFrame(columns=['models','auc_score'])\n",
    "    y = df['label']\n",
    "    for res in predicts_list:\n",
    "        fpr,tpr,thres = roc_curve(y,df[res])\n",
    "        auc_score = auc(fpr,tpr)\n",
    "        aucs = aucs.append({'models':res,'auc_score':auc_score},ignore_index=True)\n",
    "        \n",
    "        plt.plot(fpr,tpr,lw=1, alpha=0.3,label = res+' : '+str(round(auc_score,3)))\n",
    "    \n",
    "    plt.legend(loc='lower right')\n",
    "    plt.show()\n",
    "    return(aucs)"
   ]
  },
  {
   "cell_type": "code",
   "execution_count": null,
   "metadata": {},
   "outputs": [
    {
     "name": "stdout",
     "output_type": "stream",
     "text": [
      "<class 'sklearn.linear_model.logistic.LogisticRegression'> done\n",
      "<class 'sklearn.linear_model.logistic.LogisticRegression'> done\n"
     ]
    }
   ],
   "source": [
    "base_line_res = kf_with_model(train,LogisticRegression(C=0.01,solver='lbfgs'))\n",
    "balance_line_res = kf_with_model(train,LogisticRegression(C=0.01,class_weight = 'balanced',solver='lbfgs'))\n",
    "#base_svc_res = kf_with_model(train,SVC(probability=True))\n",
    "balance_svc_res = kf_with_model(train,SVC(C=0.1,class_weight='balanced',probability=True,gamma = 'auto',verbose = True))\n",
    "\n",
    "#rf_base_res = kf_with_model(train,RandomForestClassifier(max_depth=5))"
   ]
  },
  {
   "cell_type": "code",
   "execution_count": null,
   "metadata": {},
   "outputs": [],
   "source": []
  },
  {
   "cell_type": "code",
   "execution_count": null,
   "metadata": {},
   "outputs": [],
   "source": [
    "result_df = pd.DataFrame()\n",
    "result_df['label'] = train['target']"
   ]
  },
  {
   "cell_type": "code",
   "execution_count": null,
   "metadata": {},
   "outputs": [],
   "source": [
    "result_df['base_prob'] = base_line_res['prob']\n",
    "result_df['balance_prob'] = balance_line_res['prob']\n",
    "#result_df['svc_prob'] = base_svc_res['prob']\n",
    "result_df['ba_svc_prob'] = balance_svc_res['prob']\n",
    "\n",
    "#result_df['rf_base_prob'] = rf_base_res['prob']\n"
   ]
  },
  {
   "cell_type": "code",
   "execution_count": null,
   "metadata": {},
   "outputs": [],
   "source": []
  },
  {
   "cell_type": "code",
   "execution_count": null,
   "metadata": {},
   "outputs": [],
   "source": []
  },
  {
   "cell_type": "code",
   "execution_count": null,
   "metadata": {},
   "outputs": [],
   "source": [
    "plotGraph(result_df)"
   ]
  },
  {
   "cell_type": "code",
   "execution_count": null,
   "metadata": {},
   "outputs": [],
   "source": []
  },
  {
   "cell_type": "code",
   "execution_count": null,
   "metadata": {},
   "outputs": [],
   "source": []
  },
  {
   "cell_type": "code",
   "execution_count": null,
   "metadata": {},
   "outputs": [],
   "source": []
  },
  {
   "cell_type": "code",
   "execution_count": null,
   "metadata": {},
   "outputs": [],
   "source": []
  },
  {
   "cell_type": "code",
   "execution_count": null,
   "metadata": {},
   "outputs": [],
   "source": []
  },
  {
   "cell_type": "code",
   "execution_count": null,
   "metadata": {},
   "outputs": [],
   "source": []
  }
 ],
 "metadata": {
  "kernelspec": {
   "display_name": "Python 3",
   "language": "python",
   "name": "python3"
  },
  "language_info": {
   "codemirror_mode": {
    "name": "ipython",
    "version": 3
   },
   "file_extension": ".py",
   "mimetype": "text/x-python",
   "name": "python",
   "nbconvert_exporter": "python",
   "pygments_lexer": "ipython3",
   "version": "3.6.7"
  }
 },
 "nbformat": 4,
 "nbformat_minor": 2
}
