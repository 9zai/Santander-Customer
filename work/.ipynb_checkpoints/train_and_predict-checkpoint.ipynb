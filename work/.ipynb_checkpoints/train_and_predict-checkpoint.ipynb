{
 "cells": [
  {
   "cell_type": "code",
   "execution_count": 1,
   "metadata": {},
   "outputs": [],
   "source": [
    "import numpy as np\n",
    "import pandas as pd\n",
    "from sklearn.linear_model import LogisticRegression\n",
    "from sklearn.preprocessing import MinMaxScaler\n",
    "from sklearn.pipeline import Pipeline\n",
    "from sklearn.model_selection import StratifiedKFold,train_test_split\n",
    "from sklearn.metrics import auc,roc_curve\n",
    "\n",
    "from sklearn.externals import joblib\n",
    "import lightgbm as lgb\n",
    "\n",
    "from imblearn.under_sampling import RandomUnderSampler,CondensedNearestNeighbour\n",
    "from imblearn.over_sampling import RandomOverSampler,SMOTE\n",
    "\n",
    "from random import random\n",
    "\n",
    "import matplotlib.pyplot as plt\n",
    "%matplotlib inline\n",
    "\n",
    "nrow = None\n",
    "number_of_time = 10"
   ]
  },
  {
   "cell_type": "code",
   "execution_count": null,
   "metadata": {},
   "outputs": [],
   "source": []
  },
  {
   "cell_type": "code",
   "execution_count": 2,
   "metadata": {},
   "outputs": [],
   "source": [
    "train = pd.read_csv('../data/train.csv',nrows=nrow)\n",
    "train.drop('ID_code',inplace= True,axis=1)"
   ]
  },
  {
   "cell_type": "code",
   "execution_count": 3,
   "metadata": {},
   "outputs": [],
   "source": [
    "y = pd.DataFrame(train['target'])\n",
    "#sc = MinMaxScaler()\n",
    "x = pd.DataFrame(train.drop('target',axis=1),columns=train.columns[1:])"
   ]
  },
  {
   "cell_type": "code",
   "execution_count": 4,
   "metadata": {},
   "outputs": [],
   "source": [
    "def features_engineer(x,y):\n",
    "    x['sum'] = x.sum()\n",
    "    return(x,y)\n",
    "\n",
    "def data_augmentation(x,y,low_class_ratio = 0.2,method = 'none'):\n",
    "    if method == 'random_under_sample':\n",
    "        sm = RandomUnderSampler(sampling_strategy=1-low_class_ratio)\n",
    "        aug_x,aug_y = sm.fit_resample(x,y)\n",
    "    elif method == 'random_over_sample':\n",
    "        sm = RandomOverSampler(sampling_strategy=1-low_class_ratio)\n",
    "        aug_x,aug_y = sm.fit_resample(x,y)\n",
    "    elif method == 'smote':\n",
    "        sm = SMOTE(sampling_strategy=1-low_class_ratio,m_neighbors=10,kind='svm')\n",
    "        aug_x,aug_y = sm.fit_resample(x,y)\n",
    "#    elif method == 'shuffle':\n",
    "        \n",
    "    else:\n",
    "        aug_x = x\n",
    "        aug_y = y\n",
    "    \n",
    "    return(pd.DataFrame(aug_x,columns=x.columns),pd.DataFrame(aug_y,columns=['target']))"
   ]
  },
  {
   "cell_type": "code",
   "execution_count": 5,
   "metadata": {},
   "outputs": [],
   "source": [
    "test = pd.read_csv('../data/test.csv')\n",
    "sub = pd.DataFrame()\n",
    "sub['ID_code'] = test['ID_code']\n",
    "test.drop('ID_code',axis=1,inplace=True)\n",
    "#train,test = train_test_split(train,test_size = 0.3)"
   ]
  },
  {
   "cell_type": "code",
   "execution_count": 6,
   "metadata": {},
   "outputs": [],
   "source": [
    "train_x = train.drop('target',axis=1).reset_index(drop=True)\n",
    "train_y = pd.DataFrame(train['target']).reset_index(drop=True)"
   ]
  },
  {
   "cell_type": "code",
   "execution_count": 7,
   "metadata": {},
   "outputs": [],
   "source": [
    "#predict and combine\n",
    "def models_list_predict(models,test_x):\n",
    "    res = np.zeros((test.shape[0]))\n",
    "    for model in models:\n",
    "        res = res + model.predict(test_x)\n",
    "    res = res/len(models)\n",
    "    return(res)\n",
    "\n",
    "def combine_pred(x,y,test_x):\n",
    "    pred = np.zeros((test.shape[0]))\n",
    "    for i in range(number_of_time):\n",
    "        model = k_fold_train(x,y,'none',random()/2)\n",
    "        pred = pred + model.predict(test_x)\n",
    "\n",
    "    pred = pred/number_of_time\n",
    "    return(pred)"
   ]
  },
  {
   "cell_type": "code",
   "execution_count": 8,
   "metadata": {},
   "outputs": [],
   "source": [
    "param = {\n",
    "    'bagging_freq': 5,\n",
    "    'bagging_fraction': 0.2,\n",
    "    'boost_from_average':'false',\n",
    "    'boost': 'gbdt',\n",
    "    'feature_fraction': 0.041,\n",
    "    'learning_rate': 0.003,\n",
    "    'max_depth': -1,  \n",
    "    'metric':'auc',\n",
    "    'min_data_in_leaf': 80,\n",
    "    'min_sum_hessian_in_leaf': 10.0,\n",
    "    'num_leaves': 13,\n",
    "    'objective': 'binary',\n",
    "    'tree_learner': 'serial',\n",
    "    \"verbosity\" : 1,\n",
    "    \"bagging_seed\" : 15,\n",
    "    \"seed\": 15\n",
    "}\n",
    "def k_fold_train(x,y,sample_method = 'none'):\n",
    "    kf = StratifiedKFold(n_splits=3,shuffle=True)\n",
    "    models = []\n",
    "    for train_index,val_index in kf.split(x,y):\n",
    "        train_model_x,val_model_x = x.iloc[train_index,:],x.iloc[val_index,:]\n",
    "        train_model_y,val_model_y = y.iloc[train_index],y.iloc[val_index]\n",
    "        n_x,n_y = data_augmentation(train_model_x,train_model_y,method=sample_method,low_class_ratio=random()/2+0.1)\n",
    "        train_data = lgb.Dataset(n_x,n_y)\n",
    "        val_data = lgb.Dataset(val_model_x,val_model_y)\n",
    "        \n",
    "        model = lgb.train(param,train_set=train_data,num_boost_round=100000,verbose_eval = 100,\n",
    "                          early_stopping_rounds=1000,valid_sets = [train_data,val_data])\n",
    "        models.append(model)\n",
    "    return(models)"
   ]
  },
  {
   "cell_type": "code",
   "execution_count": null,
   "metadata": {},
   "outputs": [
    {
     "name": "stdout",
     "output_type": "stream",
     "text": [
      "Training until validation scores don't improve for 1000 rounds.\n",
      "[100]\ttraining's auc: 0.859939\tvalid_1's auc: 0.841269\n",
      "[200]\ttraining's auc: 0.883897\tvalid_1's auc: 0.864604\n",
      "[300]\ttraining's auc: 0.890998\tvalid_1's auc: 0.87214\n",
      "[400]\ttraining's auc: 0.894217\tvalid_1's auc: 0.875331\n",
      "[500]\ttraining's auc: 0.89622\tvalid_1's auc: 0.877888\n",
      "[600]\ttraining's auc: 0.89795\tvalid_1's auc: 0.879261\n",
      "[700]\ttraining's auc: 0.899459\tvalid_1's auc: 0.880752\n",
      "[800]\ttraining's auc: 0.900474\tvalid_1's auc: 0.881977\n",
      "[900]\ttraining's auc: 0.901446\tvalid_1's auc: 0.882516\n",
      "[1000]\ttraining's auc: 0.902307\tvalid_1's auc: 0.88325\n",
      "[1100]\ttraining's auc: 0.902749\tvalid_1's auc: 0.883734\n",
      "[1200]\ttraining's auc: 0.903126\tvalid_1's auc: 0.883997\n",
      "[1300]\ttraining's auc: 0.904021\tvalid_1's auc: 0.884907\n",
      "[1400]\ttraining's auc: 0.904857\tvalid_1's auc: 0.885646\n",
      "[1500]\ttraining's auc: 0.905431\tvalid_1's auc: 0.886191\n",
      "[1600]\ttraining's auc: 0.905223\tvalid_1's auc: 0.886152\n",
      "[1700]\ttraining's auc: 0.905754\tvalid_1's auc: 0.886591\n",
      "[1800]\ttraining's auc: 0.906604\tvalid_1's auc: 0.887216\n",
      "[1900]\ttraining's auc: 0.906857\tvalid_1's auc: 0.887333\n",
      "[2000]\ttraining's auc: 0.907222\tvalid_1's auc: 0.887671\n",
      "[2100]\ttraining's auc: 0.907623\tvalid_1's auc: 0.887909\n",
      "[2200]\ttraining's auc: 0.908137\tvalid_1's auc: 0.88849\n",
      "[2300]\ttraining's auc: 0.908551\tvalid_1's auc: 0.888964\n",
      "[2400]\ttraining's auc: 0.908905\tvalid_1's auc: 0.889219\n",
      "[2500]\ttraining's auc: 0.909238\tvalid_1's auc: 0.889487\n",
      "[2600]\ttraining's auc: 0.909445\tvalid_1's auc: 0.889666\n",
      "[2700]\ttraining's auc: 0.909881\tvalid_1's auc: 0.890107\n",
      "[2800]\ttraining's auc: 0.910087\tvalid_1's auc: 0.89039\n"
     ]
    }
   ],
   "source": [
    "base_line = k_fold_train(train_x,train_y)"
   ]
  },
  {
   "cell_type": "code",
   "execution_count": 10,
   "metadata": {},
   "outputs": [],
   "source": [
    "#random_under = k_fold_train(train_x,train_y,'random_under_sample')"
   ]
  },
  {
   "cell_type": "code",
   "execution_count": null,
   "metadata": {},
   "outputs": [],
   "source": [
    "random_over = k_fold_train(train_x,train_y,'random_over_sample')"
   ]
  },
  {
   "cell_type": "code",
   "execution_count": 12,
   "metadata": {
    "scrolled": true
   },
   "outputs": [],
   "source": [
    "#smote = k_fold_train(train_x,train_y,'smote')"
   ]
  },
  {
   "cell_type": "code",
   "execution_count": null,
   "metadata": {},
   "outputs": [],
   "source": []
  },
  {
   "cell_type": "code",
   "execution_count": 13,
   "metadata": {},
   "outputs": [],
   "source": [
    "def plotGraph(df):\n",
    "    predicts_list = df.columns[1:]\n",
    "    aucs = pd.DataFrame(columns=['models','auc_score'])\n",
    "    y = df['label']\n",
    "    for res in predicts_list:\n",
    "        fpr,tpr,thres = roc_curve(y,df[res])\n",
    "        auc_score = auc(fpr,tpr)\n",
    "        aucs = aucs.append({'models':res,'auc_score':auc_score},ignore_index=True)\n",
    "        \n",
    "        plt.plot(fpr,tpr,lw=1, alpha=0.3,label = res+' : '+str(round(auc_score,3)))\n",
    "    \n",
    "    plt.legend(loc='lower right')\n",
    "    plt.show()\n",
    "    return(aucs)"
   ]
  },
  {
   "cell_type": "code",
   "execution_count": 14,
   "metadata": {},
   "outputs": [],
   "source": [
    "pred = models_list_predict(base_line,test.drop('target',axis=1))\n",
    "\n",
    "result_df = pd.DataFrame()\n",
    "result_df['label'] = test['target']\n",
    "result_df['base'] = pred"
   ]
  },
  {
   "cell_type": "code",
   "execution_count": 15,
   "metadata": {},
   "outputs": [],
   "source": [
    "#pred = random_under.predict(test.drop('target',axis=1))\n",
    "#result_df['random_under'] = pred\n",
    "\n",
    "pred = models_list_predict(random_over,test.drop('target',axis=1))\n",
    "result_df['random_over'] = pred\n",
    "\n",
    "#pred = models_list_predict(smote,test.drop('target',axis=1))\n",
    "#result_df['smote'] = pred"
   ]
  },
  {
   "cell_type": "code",
   "execution_count": null,
   "metadata": {},
   "outputs": [],
   "source": []
  },
  {
   "cell_type": "code",
   "execution_count": 16,
   "metadata": {},
   "outputs": [
    {
     "data": {
      "image/png": "[encoded data removed]",
      "text/plain": [
       "<Figure size 432x288 with 1 Axes>"
      ]
     },
     "metadata": {},
     "output_type": "display_data"
    },
    {
     "data": {
      "text/html": [
       "<div>\n",
       "<style scoped>\n",
       "    .dataframe tbody tr th:only-of-type {\n",
       "        vertical-align: middle;\n",
       "    }\n",
       "\n",
       "    .dataframe tbody tr th {\n",
       "        vertical-align: top;\n",
       "    }\n",
       "\n",
       "    .dataframe thead th {\n",
       "        text-align: right;\n",
       "    }\n",
       "</style>\n",
       "<table border=\"1\" class=\"dataframe\">\n",
       "  <thead>\n",
       "    <tr style=\"text-align: right;\">\n",
       "      <th></th>\n",
       "      <th>models</th>\n",
       "      <th>auc_score</th>\n",
       "    </tr>\n",
       "  </thead>\n",
       "  <tbody>\n",
       "    <tr>\n",
       "      <th>0</th>\n",
       "      <td>base</td>\n",
       "      <td>0.901732</td>\n",
       "    </tr>\n",
       "    <tr>\n",
       "      <th>1</th>\n",
       "      <td>random_over</td>\n",
       "      <td>0.901306</td>\n",
       "    </tr>\n",
       "  </tbody>\n",
       "</table>\n",
       "</div>"
      ],
      "text/plain": [
       "        models  auc_score\n",
       "0         base   0.901732\n",
       "1  random_over   0.901306"
      ]
     },
     "execution_count": 16,
     "metadata": {},
     "output_type": "execute_result"
    }
   ],
   "source": [
    "plotGraph(result_df)"
   ]
  },
  {
   "cell_type": "code",
   "execution_count": 13,
   "metadata": {
    "scrolled": true
   },
   "outputs": [],
   "source": [
    "#final_pred = combine_pred(x,y,test)\n",
    "final_pred = models_list_predict(base_line,test)"
   ]
  },
  {
   "cell_type": "code",
   "execution_count": 14,
   "metadata": {},
   "outputs": [],
   "source": [
    "sub['target'] = final_pred\n",
    "sub.to_csv(\"../data/one_round_base_sub.csv\",index=False)"
   ]
  },
  {
   "cell_type": "code",
   "execution_count": null,
   "metadata": {},
   "outputs": [],
   "source": []
  },
  {
   "cell_type": "code",
   "execution_count": 10,
   "metadata": {},
   "outputs": [
    {
     "data": {
      "text/html": [
       "<div>\n",
       "<style scoped>\n",
       "    .dataframe tbody tr th:only-of-type {\n",
       "        vertical-align: middle;\n",
       "    }\n",
       "\n",
       "    .dataframe tbody tr th {\n",
       "        vertical-align: top;\n",
       "    }\n",
       "\n",
       "    .dataframe thead th {\n",
       "        text-align: right;\n",
       "    }\n",
       "</style>\n",
       "<table border=\"1\" class=\"dataframe\">\n",
       "  <thead>\n",
       "    <tr style=\"text-align: right;\">\n",
       "      <th></th>\n",
       "      <th>var_0</th>\n",
       "      <th>var_1</th>\n",
       "      <th>var_2</th>\n",
       "      <th>var_3</th>\n",
       "      <th>var_4</th>\n",
       "      <th>var_5</th>\n",
       "      <th>var_6</th>\n",
       "      <th>var_7</th>\n",
       "      <th>var_8</th>\n",
       "      <th>var_9</th>\n",
       "      <th>...</th>\n",
       "      <th>var_190</th>\n",
       "      <th>var_191</th>\n",
       "      <th>var_192</th>\n",
       "      <th>var_193</th>\n",
       "      <th>var_194</th>\n",
       "      <th>var_195</th>\n",
       "      <th>var_196</th>\n",
       "      <th>var_197</th>\n",
       "      <th>var_198</th>\n",
       "      <th>var_199</th>\n",
       "    </tr>\n",
       "  </thead>\n",
       "  <tbody>\n",
       "    <tr>\n",
       "      <th>0</th>\n",
       "      <td>13.2244</td>\n",
       "      <td>-5.3561</td>\n",
       "      <td>9.4207</td>\n",
       "      <td>6.8993</td>\n",
       "      <td>11.8266</td>\n",
       "      <td>0.1855</td>\n",
       "      <td>4.7322</td>\n",
       "      <td>16.3153</td>\n",
       "      <td>0.8751</td>\n",
       "      <td>8.8634</td>\n",
       "      <td>...</td>\n",
       "      <td>4.3682</td>\n",
       "      <td>4.0443</td>\n",
       "      <td>1.5461</td>\n",
       "      <td>-3.6874</td>\n",
       "      <td>19.6150</td>\n",
       "      <td>-0.1525</td>\n",
       "      <td>-0.3114</td>\n",
       "      <td>8.2706</td>\n",
       "      <td>12.8106</td>\n",
       "      <td>12.4559</td>\n",
       "    </tr>\n",
       "    <tr>\n",
       "      <th>1</th>\n",
       "      <td>7.0886</td>\n",
       "      <td>-2.4376</td>\n",
       "      <td>9.9220</td>\n",
       "      <td>4.6935</td>\n",
       "      <td>11.4615</td>\n",
       "      <td>-12.9421</td>\n",
       "      <td>6.2459</td>\n",
       "      <td>18.3931</td>\n",
       "      <td>0.8567</td>\n",
       "      <td>6.9007</td>\n",
       "      <td>...</td>\n",
       "      <td>-2.4250</td>\n",
       "      <td>7.9784</td>\n",
       "      <td>1.4026</td>\n",
       "      <td>3.8214</td>\n",
       "      <td>14.8921</td>\n",
       "      <td>1.3920</td>\n",
       "      <td>1.6434</td>\n",
       "      <td>8.9802</td>\n",
       "      <td>14.4934</td>\n",
       "      <td>-4.2401</td>\n",
       "    </tr>\n",
       "    <tr>\n",
       "      <th>2</th>\n",
       "      <td>10.5319</td>\n",
       "      <td>2.3891</td>\n",
       "      <td>9.6690</td>\n",
       "      <td>8.4900</td>\n",
       "      <td>9.3675</td>\n",
       "      <td>5.6692</td>\n",
       "      <td>4.4811</td>\n",
       "      <td>20.5499</td>\n",
       "      <td>0.3646</td>\n",
       "      <td>7.7768</td>\n",
       "      <td>...</td>\n",
       "      <td>5.4074</td>\n",
       "      <td>5.4410</td>\n",
       "      <td>3.2750</td>\n",
       "      <td>8.8432</td>\n",
       "      <td>17.3259</td>\n",
       "      <td>3.0755</td>\n",
       "      <td>-1.5139</td>\n",
       "      <td>8.5335</td>\n",
       "      <td>14.8947</td>\n",
       "      <td>8.3533</td>\n",
       "    </tr>\n",
       "    <tr>\n",
       "      <th>3</th>\n",
       "      <td>10.3512</td>\n",
       "      <td>1.3618</td>\n",
       "      <td>6.8847</td>\n",
       "      <td>8.7853</td>\n",
       "      <td>9.7351</td>\n",
       "      <td>-2.4949</td>\n",
       "      <td>4.5600</td>\n",
       "      <td>11.4412</td>\n",
       "      <td>1.9140</td>\n",
       "      <td>7.2225</td>\n",
       "      <td>...</td>\n",
       "      <td>6.1570</td>\n",
       "      <td>3.4908</td>\n",
       "      <td>1.0380</td>\n",
       "      <td>5.1353</td>\n",
       "      <td>19.9946</td>\n",
       "      <td>-1.4656</td>\n",
       "      <td>-1.7204</td>\n",
       "      <td>10.0024</td>\n",
       "      <td>20.2833</td>\n",
       "      <td>-2.8067</td>\n",
       "    </tr>\n",
       "    <tr>\n",
       "      <th>4</th>\n",
       "      <td>13.7639</td>\n",
       "      <td>-5.0448</td>\n",
       "      <td>7.2434</td>\n",
       "      <td>8.0190</td>\n",
       "      <td>9.3039</td>\n",
       "      <td>-16.4196</td>\n",
       "      <td>4.9915</td>\n",
       "      <td>12.7661</td>\n",
       "      <td>-2.0142</td>\n",
       "      <td>7.8002</td>\n",
       "      <td>...</td>\n",
       "      <td>13.3354</td>\n",
       "      <td>5.2926</td>\n",
       "      <td>0.9517</td>\n",
       "      <td>8.6630</td>\n",
       "      <td>12.3325</td>\n",
       "      <td>0.2058</td>\n",
       "      <td>3.0140</td>\n",
       "      <td>8.4479</td>\n",
       "      <td>18.8493</td>\n",
       "      <td>-10.1545</td>\n",
       "    </tr>\n",
       "  </tbody>\n",
       "</table>\n",
       "<p>5 rows × 200 columns</p>\n",
       "</div>"
      ],
      "text/plain": [
       "     var_0   var_1   var_2   var_3    var_4    var_5   var_6    var_7   var_8  \\\n",
       "0  13.2244 -5.3561  9.4207  6.8993  11.8266   0.1855  4.7322  16.3153  0.8751   \n",
       "1   7.0886 -2.4376  9.9220  4.6935  11.4615 -12.9421  6.2459  18.3931  0.8567   \n",
       "2  10.5319  2.3891  9.6690  8.4900   9.3675   5.6692  4.4811  20.5499  0.3646   \n",
       "3  10.3512  1.3618  6.8847  8.7853   9.7351  -2.4949  4.5600  11.4412  1.9140   \n",
       "4  13.7639 -5.0448  7.2434  8.0190   9.3039 -16.4196  4.9915  12.7661 -2.0142   \n",
       "\n",
       "    var_9   ...     var_190  var_191  var_192  var_193  var_194  var_195  \\\n",
       "0  8.8634   ...      4.3682   4.0443   1.5461  -3.6874  19.6150  -0.1525   \n",
       "1  6.9007   ...     -2.4250   7.9784   1.4026   3.8214  14.8921   1.3920   \n",
       "2  7.7768   ...      5.4074   5.4410   3.2750   8.8432  17.3259   3.0755   \n",
       "3  7.2225   ...      6.1570   3.4908   1.0380   5.1353  19.9946  -1.4656   \n",
       "4  7.8002   ...     13.3354   5.2926   0.9517   8.6630  12.3325   0.2058   \n",
       "\n",
       "   var_196  var_197  var_198  var_199  \n",
       "0  -0.3114   8.2706  12.8106  12.4559  \n",
       "1   1.6434   8.9802  14.4934  -4.2401  \n",
       "2  -1.5139   8.5335  14.8947   8.3533  \n",
       "3  -1.7204  10.0024  20.2833  -2.8067  \n",
       "4   3.0140   8.4479  18.8493 -10.1545  \n",
       "\n",
       "[5 rows x 200 columns]"
      ]
     },
     "execution_count": 10,
     "metadata": {},
     "output_type": "execute_result"
    }
   ],
   "source": [
    "train_x.head()"
   ]
  },
  {
   "cell_type": "code",
   "execution_count": null,
   "metadata": {},
   "outputs": [],
   "source": []
  },
  {
   "cell_type": "code",
   "execution_count": null,
   "metadata": {},
   "outputs": [],
   "source": []
  },
  {
   "cell_type": "code",
   "execution_count": null,
   "metadata": {},
   "outputs": [],
   "source": []
  }
 ],
 "metadata": {
  "kernelspec": {
   "display_name": "Python 3",
   "language": "python",
   "name": "python3"
  },
  "language_info": {
   "codemirror_mode": {
    "name": "ipython",
    "version": 3
   },
   "file_extension": ".py",
   "mimetype": "text/x-python",
   "name": "python",
   "nbconvert_exporter": "python",
   "pygments_lexer": "ipython3",
   "version": "3.6.7"
  }
 },
 "nbformat": 4,
 "nbformat_minor": 2
}
