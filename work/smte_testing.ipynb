{
 "cells": [
  {
   "cell_type": "code",
   "execution_count": 2,
   "metadata": {},
   "outputs": [],
   "source": [
    "import pandas as pd\n",
    "import numpy as np\n",
    "from sklearn.model_selection import train_test_split\n",
    "from sklearn.linear_model import LogisticRegression\n",
    "\n",
    "from imblearn.over_sampling import SMOTE"
   ]
  },
  {
   "cell_type": "code",
   "execution_count": 3,
   "metadata": {},
   "outputs": [],
   "source": [
    "from sklearn.metrics import auc,roc_curve\n",
    "\n",
    "import matplotlib.pyplot as plt\n",
    "%matplotlib inline\n",
    "\n",
    "import heapq\n",
    "from random import random,randint\n",
    "\n",
    "nrows = 35000"
   ]
  },
  {
   "cell_type": "code",
   "execution_count": 4,
   "metadata": {},
   "outputs": [],
   "source": [
    "#linux_file = \"../data/min_max_train.csv\"\n",
    "mac_file = \"../data/scale_train.csv\"\n",
    "\n",
    "train = pd.read_csv(mac_file,nrows=nrows)\n",
    "train.drop('Unnamed: 0',inplace= True,axis=1)"
   ]
  },
  {
   "cell_type": "code",
   "execution_count": 5,
   "metadata": {},
   "outputs": [],
   "source": [
    "train_data, test_data = train_test_split(train,test_size = 0.3)"
   ]
  },
  {
   "cell_type": "code",
   "execution_count": 6,
   "metadata": {},
   "outputs": [],
   "source": [
    "def sub_sample(label_1,label_0,low_class_ratio):\n",
    "    res = pd.DataFrame(label_1)\n",
    "    n = int(res.shape[0] / low_class_ratio) - res.shape[0]\n",
    "    samples = label_0.sample(n = n)\n",
    "    res = res.append(samples)\n",
    "    return(res,samples)\n",
    "\n",
    "def smote(label_1,label_0,N=5,k = 8):\n",
    "    print(str(N) + ' '+str(k))\n",
    "    res = pd.DataFrame(label_0)\n",
    "    res = res.append(label_1)\n",
    "    \n",
    "    selected_sample = label_1\n",
    "\n",
    "    nrows = selected_sample.shape[0]\n",
    "    ncols = label_1.shape[0]\n",
    "\n",
    "    dis = [[0 for j in range(ncols)] for i in range(nrows)]\n",
    "    added_df = pd.DataFrame()\n",
    "\n",
    "    for i in range(nrows):\n",
    "        knn = []\n",
    "        for j in range(ncols):\n",
    "            if i == j:\n",
    "                continue\n",
    "            dif = selected_sample.iloc[i,1:] - label_1.iloc[j,1:]\n",
    "            dis = dif.dot(dif)\n",
    "            if len(knn) >= k:\n",
    "                heapq.heappushpop(knn,(-dis,j))\n",
    "            else:\n",
    "                heapq.heappush(knn,(-dis,j))\n",
    "\n",
    "        for j in range(N):\n",
    "            nn = label_1.iloc[knn[randint(0,len(knn)-1)][1],1:]\n",
    "\n",
    "            create_sample = selected_sample.iloc[i,1:] + random() * (nn - selected_sample.iloc[i,1:])\n",
    "            added_df = added_df.append(create_sample,ignore_index=True)\n",
    "\n",
    "    added_df['target'] = 1\n",
    "    res = res.append(added_df)\n",
    "    return(res,added_df)\n",
    "\n",
    "def over_sample(label_1,label_0,low_class_ratio):\n",
    "    res = pd.DataFrame(label_0)\n",
    "    res = res.append(label_1)\n",
    "    n = int((label_0.shape[0]*low_class_ratio)/(1-low_class_ratio)) - label_1.shape[0]\n",
    "    samples = label_1.sample(n = n,replace = True)\n",
    "    res = res.append(samples)\n",
    "    return(res,samples)\n",
    "    \n",
    "\n",
    "def data_augmentation(train,method = 'smte',**kwargs):\n",
    "    data_1 = train[train['target'] == 1]\n",
    "    data_0 = train[train['target'] == 0]\n",
    "    if method == 'sub_sample':\n",
    "        return(sub_sample(data_1,data_0,**kwargs))\n",
    "    elif method == 'smte':\n",
    "        return (smte(data_1,data_0,**kwargs))\n",
    "    elif method == 'over_sample':\n",
    "        return(over_sample(data_1,data_0,**kwargs))\n",
    "    elif method == 'none':\n",
    "        return((train,None))"
   ]
  },
  {
   "cell_type": "code",
   "execution_count": 7,
   "metadata": {},
   "outputs": [],
   "source": [
    "def plotGraph(df):\n",
    "    predicts_list = df.columns[1:]\n",
    "    aucs = pd.DataFrame(columns=['models','auc_score'])\n",
    "    y = df['label']\n",
    "    for res in predicts_list:\n",
    "        fpr,tpr,thres = roc_curve(y,df[res])\n",
    "        auc_score = auc(fpr,tpr)\n",
    "        aucs = aucs.append({'models':res,'auc_score':auc_score},ignore_index=True)\n",
    "        \n",
    "        plt.plot(fpr,tpr,lw=1, alpha=0.3,label = res+' : '+str(round(auc_score,3)))\n",
    "    \n",
    "    plt.legend(loc='lower right')\n",
    "    plt.show()\n",
    "    return(aucs)"
   ]
  },
  {
   "cell_type": "code",
   "execution_count": 9,
   "metadata": {},
   "outputs": [],
   "source": [
    "#aug_train_data,train_added = data_augmentation(train_data,method='over_sample',low_class_ratio = 0.5)\n",
    "#aug_train_data = pd.read_csv(\"../data/aug_test.csv\")\n",
    "t_x = train_data.drop('target',axis=1)\n",
    "t_y = train_data['target']\n",
    "\n",
    "s_x,s_y = SMOTE().fit_sample(t_x,t_y)"
   ]
  },
  {
   "cell_type": "code",
   "execution_count": 19,
   "metadata": {},
   "outputs": [],
   "source": [
    "#aug_train_data.to_csv('../data/aug_test.csv',index=False)\n",
    "aug_train_data = pd.DataFrame(s_x,columns=train_data.columns[1:])\n",
    "aug_train_data['target'] = s_y"
   ]
  },
  {
   "cell_type": "code",
   "execution_count": 12,
   "metadata": {},
   "outputs": [],
   "source": [
    "lr = LogisticRegression(C=0.01,max_iter=5000,solver='lbfgs')\n",
    "test_x = test_data.drop('target',axis=1)\n",
    "test_y = test_data['target']"
   ]
  },
  {
   "cell_type": "code",
   "execution_count": 14,
   "metadata": {},
   "outputs": [],
   "source": [
    "org_train_x = train_data.drop('target',axis=1)\n",
    "org_train_y = train_data['target']\n",
    "org_test = lr.fit(org_train_x,org_train_y).predict_proba(test_x)[:,1]\n",
    "\n",
    "#aug_train_x = aug_train_data.drop('target',axis=1)\n",
    "#aug_train_y = aug_train_data['target']\n",
    "aug_test = lr.fit(s_x,s_y).predict_proba(test_x)[:,1]"
   ]
  },
  {
   "cell_type": "code",
   "execution_count": 15,
   "metadata": {},
   "outputs": [],
   "source": [
    "result_df = pd.DataFrame()\n",
    "result_df['label'] = test_data['target']\n",
    "result_df['base'] = org_test\n",
    "result_df['aug'] = aug_test"
   ]
  },
  {
   "cell_type": "code",
   "execution_count": 16,
   "metadata": {},
   "outputs": [
    {
     "data": {
      "image/png": "[encoded data removed]",
      "text/plain": [
       "<Figure size 432x288 with 1 Axes>"
      ]
     },
     "metadata": {},
     "output_type": "display_data"
    },
    {
     "data": {
      "text/html": [
       "<div>\n",
       "<style scoped>\n",
       "    .dataframe tbody tr th:only-of-type {\n",
       "        vertical-align: middle;\n",
       "    }\n",
       "\n",
       "    .dataframe tbody tr th {\n",
       "        vertical-align: top;\n",
       "    }\n",
       "\n",
       "    .dataframe thead th {\n",
       "        text-align: right;\n",
       "    }\n",
       "</style>\n",
       "<table border=\"1\" class=\"dataframe\">\n",
       "  <thead>\n",
       "    <tr style=\"text-align: right;\">\n",
       "      <th></th>\n",
       "      <th>models</th>\n",
       "      <th>auc_score</th>\n",
       "    </tr>\n",
       "  </thead>\n",
       "  <tbody>\n",
       "    <tr>\n",
       "      <th>0</th>\n",
       "      <td>base</td>\n",
       "      <td>0.858756</td>\n",
       "    </tr>\n",
       "    <tr>\n",
       "      <th>1</th>\n",
       "      <td>aug</td>\n",
       "      <td>0.854358</td>\n",
       "    </tr>\n",
       "  </tbody>\n",
       "</table>\n",
       "</div>"
      ],
      "text/plain": [
       "  models  auc_score\n",
       "0   base   0.858756\n",
       "1    aug   0.854358"
      ]
     },
     "execution_count": 16,
     "metadata": {},
     "output_type": "execute_result"
    }
   ],
   "source": [
    "plotGraph(result_df)"
   ]
  },
  {
   "cell_type": "code",
   "execution_count": 28,
   "metadata": {},
   "outputs": [],
   "source": [
    "demo = []\n",
    "for i in range(50):\n",
    "    demo.append({\n",
    "        'target':1,\n",
    "        'var_0':randint(0,5),\n",
    "        'var_1':randint(-5,0)\n",
    "    })\n",
    "    demo.append({\n",
    "        'target':0,\n",
    "        'var_0':randint(-5,0),\n",
    "        'var_1':randint(0,5)\n",
    "    })\n",
    "\n",
    "demo_df = pd.DataFrame(demo)"
   ]
  },
  {
   "cell_type": "code",
   "execution_count": 29,
   "metadata": {},
   "outputs": [],
   "source": [
    "x = demo_df.drop('target',axis=1)\n",
    "y = demo_df['target']"
   ]
  },
  {
   "cell_type": "code",
   "execution_count": 30,
   "metadata": {},
   "outputs": [],
   "source": [
    "def plot(x,y):\n",
    "    plt.scatter(x.iloc[:,0],x.iloc[:,1],c=y,cmap=\"copper_r\")\n",
    "    plt.colorbar()\n",
    "    plt.show()"
   ]
  },
  {
   "cell_type": "code",
   "execution_count": 31,
   "metadata": {},
   "outputs": [
    {
     "data": {
      "image/png": "[encoded data removed]",
      "text/plain": [
       "<Figure size 432x288 with 2 Axes>"
      ]
     },
     "metadata": {},
     "output_type": "display_data"
    }
   ],
   "source": [
    "plot(x,y)"
   ]
  },
  {
   "cell_type": "code",
   "execution_count": 72,
   "metadata": {},
   "outputs": [
    {
     "name": "stdout",
     "output_type": "stream",
     "text": [
      "1 2\n"
     ]
    }
   ],
   "source": [
    "smote_data,test_added = smte(demo_df[demo_df.target == 1],demo_df[demo_df.target == 0],N=1,k=2)"
   ]
  },
  {
   "cell_type": "code",
   "execution_count": null,
   "metadata": {},
   "outputs": [],
   "source": []
  },
  {
   "cell_type": "code",
   "execution_count": 20,
   "metadata": {},
   "outputs": [
    {
     "data": {
      "text/plain": [
       "1    22104\n",
       "0    22104\n",
       "Name: target, dtype: int64"
      ]
     },
     "execution_count": 20,
     "metadata": {},
     "output_type": "execute_result"
    }
   ],
   "source": [
    "aug_train_data.target.value_counts()"
   ]
  },
  {
   "cell_type": "code",
   "execution_count": null,
   "metadata": {},
   "outputs": [],
   "source": []
  },
  {
   "cell_type": "code",
   "execution_count": null,
   "metadata": {},
   "outputs": [],
   "source": []
  },
  {
   "cell_type": "code",
   "execution_count": null,
   "metadata": {},
   "outputs": [],
   "source": []
  },
  {
   "cell_type": "code",
   "execution_count": null,
   "metadata": {},
   "outputs": [],
   "source": []
  },
  {
   "cell_type": "code",
   "execution_count": null,
   "metadata": {},
   "outputs": [],
   "source": []
  },
  {
   "cell_type": "code",
   "execution_count": null,
   "metadata": {},
   "outputs": [],
   "source": []
  },
  {
   "cell_type": "code",
   "execution_count": 12,
   "metadata": {},
   "outputs": [],
   "source": []
  },
  {
   "cell_type": "code",
   "execution_count": 37,
   "metadata": {},
   "outputs": [],
   "source": []
  },
  {
   "cell_type": "code",
   "execution_count": null,
   "metadata": {},
   "outputs": [],
   "source": []
  }
 ],
 "metadata": {
  "kernelspec": {
   "display_name": "Python 3",
   "language": "python",
   "name": "python3"
  },
  "language_info": {
   "codemirror_mode": {
    "name": "ipython",
    "version": 3
   },
   "file_extension": ".py",
   "mimetype": "text/x-python",
   "name": "python",
   "nbconvert_exporter": "python",
   "pygments_lexer": "ipython3",
   "version": "3.6.4"
  }
 },
 "nbformat": 4,
 "nbformat_minor": 2
}
