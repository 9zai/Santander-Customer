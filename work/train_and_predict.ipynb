{
 "cells": [
  {
   "cell_type": "code",
   "execution_count": 19,
   "metadata": {},
   "outputs": [],
   "source": [
    "import numpy as np\n",
    "import pandas as pd\n",
    "from sklearn.linear_model import LogisticRegression\n",
    "from sklearn.preprocessing import MinMaxScaler\n",
    "from sklearn.pipeline import Pipeline\n",
    "from sklearn.model_selection import StratifiedKFold,train_test_split\n",
    "from sklearn.metrics import auc,roc_curve\n",
    "\n",
    "from sklearn.externals import joblib\n",
    "import lightgbm as lgb\n",
    "\n",
    "from imblearn.under_sampling import RandomUnderSampler,CondensedNearestNeighbour\n",
    "from imblearn.over_sampling import RandomOverSampler,SMOTE\n",
    "\n",
    "from random import random\n",
    "\n",
    "import matplotlib.pyplot as plt\n",
    "%matplotlib inline\n",
    "\n",
    "nrow = 80000\n",
    "number_of_time = 10"
   ]
  },
  {
   "cell_type": "code",
   "execution_count": null,
   "metadata": {},
   "outputs": [],
   "source": []
  },
  {
   "cell_type": "code",
   "execution_count": 20,
   "metadata": {},
   "outputs": [],
   "source": [
    "train = pd.read_csv('../data/train.csv',nrows=nrow)\n",
    "train.drop('ID_code',inplace= True,axis=1)"
   ]
  },
  {
   "cell_type": "code",
   "execution_count": 21,
   "metadata": {},
   "outputs": [],
   "source": [
    "y = pd.DataFrame(train['target'])\n",
    "#sc = MinMaxScaler()\n",
    "x = pd.DataFrame(train.drop('target',axis=1),columns=train.columns[1:])"
   ]
  },
  {
   "cell_type": "code",
   "execution_count": 22,
   "metadata": {},
   "outputs": [],
   "source": [
    "def data_augmentation(x,y,low_class_ratio = 0.2,method = 'none'):\n",
    "    if method == 'random_under_sample':\n",
    "        sm = RandomUnderSampler(sampling_strategy=1-low_class_ratio)\n",
    "        aug_x,aug_y = sm.fit_resample(x,y)\n",
    "    elif method == 'random_over_sample':\n",
    "        sm = RandomOverSampler(sampling_strategy=1-low_class_ratio)\n",
    "        aug_x,aug_y = sm.fit_resample(x,y)\n",
    "    elif method == 'smote':\n",
    "        sm = SMOTE(sampling_strategy=1-low_class_ratio,m_neighbors=10,kind='svm')\n",
    "        aug_x,aug_y = sm.fit_resample(x,y)\n",
    "    else:\n",
    "        aug_x = x\n",
    "        aug_y = y\n",
    "    \n",
    "    return(pd.DataFrame(aug_x,columns=x.columns),pd.DataFrame(aug_y,columns=['target']))"
   ]
  },
  {
   "cell_type": "code",
   "execution_count": 23,
   "metadata": {},
   "outputs": [],
   "source": [
    "#test = pd.read_csv('../data/test.csv')\n",
    "#sub = pd.DataFrame()\n",
    "#sub['ID_code'] = test['ID_code']\n",
    "#test.drop('ID_code',axis=1,inplace=True)\n",
    "train,test = train_test_split(train,test_size = 0.3)"
   ]
  },
  {
   "cell_type": "code",
   "execution_count": 24,
   "metadata": {},
   "outputs": [],
   "source": [
    "train_x = train.drop('target',axis=1).reset_index(drop=True)\n",
    "train_y = pd.DataFrame(train['target']).reset_index(drop=True)"
   ]
  },
  {
   "cell_type": "code",
   "execution_count": 25,
   "metadata": {},
   "outputs": [],
   "source": [
    "#predict and combine\n",
    "def models_list_predict(models,test_x):\n",
    "    res = np.zeros((test.shape[0]))\n",
    "    for model in models:\n",
    "        res = res + model.predict(test_x)\n",
    "    res = res/len(models)\n",
    "    return(res)\n",
    "\n",
    "def combine_pred(x,y,test_x):\n",
    "    pred = np.zeros((test.shape[0]))\n",
    "    for i in range(number_of_time):\n",
    "        model = k_fold_train(x,y,'none',random()/2)\n",
    "        pred = pred + model.predict(test_x)\n",
    "\n",
    "    pred = pred/number_of_time\n",
    "    return(pred)"
   ]
  },
  {
   "cell_type": "code",
   "execution_count": 26,
   "metadata": {},
   "outputs": [],
   "source": [
    "param = {\n",
    "    'bagging_freq': 5,\n",
    "    'bagging_fraction': 0.335,\n",
    "    'boost_from_average':'false',\n",
    "    'boost': 'gbdt',\n",
    "    'feature_fraction': 0.041,\n",
    "    'learning_rate': 0.003,\n",
    "    'max_depth': -1,  \n",
    "    'metric':'auc',\n",
    "    'min_data_in_leaf': 80,\n",
    "    'min_sum_hessian_in_leaf': 10.0,\n",
    "    'num_leaves': 13,\n",
    "    'objective': 'binary',\n",
    "    'tree_learner': 'serial',\n",
    "    \"verbosity\" : 1\n",
    "}\n",
    "def k_fold_train(x,y,sample_method = 'none',sample_ratio = 0.2):\n",
    "    kf = StratifiedKFold(n_splits=3,shuffle=True)\n",
    "    models = []\n",
    "    for train_index,val_index in kf.split(x,y):\n",
    "        train_model_x,val_model_x = x.iloc[train_index,:],x.iloc[val_index,:]\n",
    "        train_model_y,val_model_y = y.iloc[train_index],y.iloc[val_index]\n",
    "        n_x,n_y = data_augmentation(train_model_x,train_model_y,method=sample_method,low_class_ratio=sample_ratio)\n",
    "        train_data = lgb.Dataset(n_x,n_y)\n",
    "        val_data = lgb.Dataset(val_model_x,val_model_y)\n",
    "        \n",
    "        model = lgb.train(param,train_set=train_data,num_boost_round=100000,verbose_eval = 100,\n",
    "                          early_stopping_rounds=1000,valid_sets = [train_data,val_data])\n",
    "        models.append(model)\n",
    "    return(models)"
   ]
  },
  {
   "cell_type": "code",
   "execution_count": 27,
   "metadata": {
    "scrolled": true
   },
   "outputs": [
    {
     "name": "stdout",
     "output_type": "stream",
     "text": [
      "Training until validation scores don't improve for 1000 rounds.\n",
      "[100]\ttraining's auc: 0.891562\tvalid_1's auc: 0.832989\n",
      "[200]\ttraining's auc: 0.908753\tvalid_1's auc: 0.853263\n",
      "[300]\ttraining's auc: 0.915112\tvalid_1's auc: 0.858845\n",
      "[400]\ttraining's auc: 0.919543\tvalid_1's auc: 0.861519\n",
      "[500]\ttraining's auc: 0.922564\tvalid_1's auc: 0.863708\n",
      "[600]\ttraining's auc: 0.924118\tvalid_1's auc: 0.865897\n",
      "[700]\ttraining's auc: 0.925878\tvalid_1's auc: 0.86684\n",
      "[800]\ttraining's auc: 0.927269\tvalid_1's auc: 0.868584\n",
      "[900]\ttraining's auc: 0.9272\tvalid_1's auc: 0.867916\n",
      "[1000]\ttraining's auc: 0.928342\tvalid_1's auc: 0.869304\n",
      "[1100]\ttraining's auc: 0.929731\tvalid_1's auc: 0.869924\n",
      "[1200]\ttraining's auc: 0.930776\tvalid_1's auc: 0.871138\n",
      "[1300]\ttraining's auc: 0.931416\tvalid_1's auc: 0.871884\n",
      "[1400]\ttraining's auc: 0.931992\tvalid_1's auc: 0.871868\n",
      "[1500]\ttraining's auc: 0.932564\tvalid_1's auc: 0.872729\n",
      "[1600]\ttraining's auc: 0.933415\tvalid_1's auc: 0.873297\n",
      "[1700]\ttraining's auc: 0.934372\tvalid_1's auc: 0.873961\n",
      "[1800]\ttraining's auc: 0.935154\tvalid_1's auc: 0.874921\n",
      "[1900]\ttraining's auc: 0.936104\tvalid_1's auc: 0.875578\n",
      "[2000]\ttraining's auc: 0.936851\tvalid_1's auc: 0.875654\n",
      "[2100]\ttraining's auc: 0.937351\tvalid_1's auc: 0.876058\n",
      "[2200]\ttraining's auc: 0.938139\tvalid_1's auc: 0.877179\n",
      "[2300]\ttraining's auc: 0.938644\tvalid_1's auc: 0.877393\n",
      "[2400]\ttraining's auc: 0.939306\tvalid_1's auc: 0.87822\n",
      "[2500]\ttraining's auc: 0.939885\tvalid_1's auc: 0.87826\n",
      "[2600]\ttraining's auc: 0.940601\tvalid_1's auc: 0.878617\n",
      "[2700]\ttraining's auc: 0.941085\tvalid_1's auc: 0.87909\n",
      "[2800]\ttraining's auc: 0.94173\tvalid_1's auc: 0.879459\n",
      "[2900]\ttraining's auc: 0.942328\tvalid_1's auc: 0.87981\n",
      "[3000]\ttraining's auc: 0.94271\tvalid_1's auc: 0.880038\n"
     ]
    },
    {
     "ename": "KeyboardInterrupt",
     "evalue": "",
     "output_type": "error",
     "traceback": [
      "\u001b[0;31m--------------------------------------------------------------\u001b[0m",
      "\u001b[0;31mKeyboardInterrupt\u001b[0m            Traceback (most recent call last)",
      "\u001b[0;32m<ipython-input-27-933144955f37>\u001b[0m in \u001b[0;36m<module>\u001b[0;34m()\u001b[0m\n\u001b[0;32m----> 1\u001b[0;31m \u001b[0mbase_line\u001b[0m \u001b[0;34m=\u001b[0m \u001b[0mk_fold_train\u001b[0m\u001b[0;34m(\u001b[0m\u001b[0mtrain_x\u001b[0m\u001b[0;34m,\u001b[0m\u001b[0mtrain_y\u001b[0m\u001b[0;34m)\u001b[0m\u001b[0;34m\u001b[0m\u001b[0m\n\u001b[0m",
      "\u001b[0;32m<ipython-input-26-80f3755178e3>\u001b[0m in \u001b[0;36mk_fold_train\u001b[0;34m(x, y, sample_method, sample_ratio)\u001b[0m\n\u001b[1;32m     26\u001b[0m \u001b[0;34m\u001b[0m\u001b[0m\n\u001b[1;32m     27\u001b[0m         model = lgb.train(param,train_set=train_data,num_boost_round=100000,verbose_eval = 100,\n\u001b[0;32m---> 28\u001b[0;31m                           early_stopping_rounds=1000,valid_sets = [train_data,val_data])\n\u001b[0m\u001b[1;32m     29\u001b[0m         \u001b[0mmodels\u001b[0m\u001b[0;34m.\u001b[0m\u001b[0mappend\u001b[0m\u001b[0;34m(\u001b[0m\u001b[0mmodel\u001b[0m\u001b[0;34m)\u001b[0m\u001b[0;34m\u001b[0m\u001b[0m\n\u001b[1;32m     30\u001b[0m     \u001b[0;32mreturn\u001b[0m\u001b[0;34m(\u001b[0m\u001b[0mmodels\u001b[0m\u001b[0;34m)\u001b[0m\u001b[0;34m\u001b[0m\u001b[0m\n",
      "\u001b[0;32m/Library/Frameworks/Python.framework/Versions/3.6/lib/python3.6/site-packages/lightgbm/engine.py\u001b[0m in \u001b[0;36mtrain\u001b[0;34m(params, train_set, num_boost_round, valid_sets, valid_names, fobj, feval, init_model, feature_name, categorical_feature, early_stopping_rounds, evals_result, verbose_eval, learning_rates, keep_training_booster, callbacks)\u001b[0m\n\u001b[1;32m    216\u001b[0m                                     evaluation_result_list=None))\n\u001b[1;32m    217\u001b[0m \u001b[0;34m\u001b[0m\u001b[0m\n\u001b[0;32m--> 218\u001b[0;31m         \u001b[0mbooster\u001b[0m\u001b[0;34m.\u001b[0m\u001b[0mupdate\u001b[0m\u001b[0;34m(\u001b[0m\u001b[0mfobj\u001b[0m\u001b[0;34m=\u001b[0m\u001b[0mfobj\u001b[0m\u001b[0;34m)\u001b[0m\u001b[0;34m\u001b[0m\u001b[0m\n\u001b[0m\u001b[1;32m    219\u001b[0m \u001b[0;34m\u001b[0m\u001b[0m\n\u001b[1;32m    220\u001b[0m         \u001b[0mevaluation_result_list\u001b[0m \u001b[0;34m=\u001b[0m \u001b[0;34m[\u001b[0m\u001b[0;34m]\u001b[0m\u001b[0;34m\u001b[0m\u001b[0m\n",
      "\u001b[0;32m/Library/Frameworks/Python.framework/Versions/3.6/lib/python3.6/site-packages/lightgbm/basic.py\u001b[0m in \u001b[0;36mupdate\u001b[0;34m(self, train_set, fobj)\u001b[0m\n\u001b[1;32m   1800\u001b[0m             _safe_call(_LIB.LGBM_BoosterUpdateOneIter(\n\u001b[1;32m   1801\u001b[0m                 \u001b[0mself\u001b[0m\u001b[0;34m.\u001b[0m\u001b[0mhandle\u001b[0m\u001b[0;34m,\u001b[0m\u001b[0;34m\u001b[0m\u001b[0m\n\u001b[0;32m-> 1802\u001b[0;31m                 ctypes.byref(is_finished)))\n\u001b[0m\u001b[1;32m   1803\u001b[0m             \u001b[0mself\u001b[0m\u001b[0;34m.\u001b[0m\u001b[0m__is_predicted_cur_iter\u001b[0m \u001b[0;34m=\u001b[0m \u001b[0;34m[\u001b[0m\u001b[0;32mFalse\u001b[0m \u001b[0;32mfor\u001b[0m \u001b[0m_\u001b[0m \u001b[0;32min\u001b[0m \u001b[0mrange_\u001b[0m\u001b[0;34m(\u001b[0m\u001b[0mself\u001b[0m\u001b[0;34m.\u001b[0m\u001b[0m__num_dataset\u001b[0m\u001b[0;34m)\u001b[0m\u001b[0;34m]\u001b[0m\u001b[0;34m\u001b[0m\u001b[0m\n\u001b[1;32m   1804\u001b[0m             \u001b[0;32mreturn\u001b[0m \u001b[0mis_finished\u001b[0m\u001b[0;34m.\u001b[0m\u001b[0mvalue\u001b[0m \u001b[0;34m==\u001b[0m \u001b[0;36m1\u001b[0m\u001b[0;34m\u001b[0m\u001b[0m\n",
      "\u001b[0;31mKeyboardInterrupt\u001b[0m: "
     ]
    }
   ],
   "source": [
    "base_line = k_fold_train(train_x,train_y)"
   ]
  },
  {
   "cell_type": "code",
   "execution_count": null,
   "metadata": {},
   "outputs": [],
   "source": [
    "#random_under = k_fold_train(train_x,train_y,'random_under_sample')"
   ]
  },
  {
   "cell_type": "code",
   "execution_count": 11,
   "metadata": {
    "scrolled": true
   },
   "outputs": [
    {
     "name": "stderr",
     "output_type": "stream",
     "text": [
      "/Library/Frameworks/Python.framework/Versions/3.6/lib/python3.6/site-packages/sklearn/utils/validation.py:761: DataConversionWarning: A column-vector y was passed when a 1d array was expected. Please change the shape of y to (n_samples, ), for example using ravel().\n",
      "  y = column_or_1d(y, warn=True)\n"
     ]
    },
    {
     "name": "stdout",
     "output_type": "stream",
     "text": [
      "Training until validation scores don't improve for 1000 rounds.\n",
      "[100]\ttraining's auc: 0.980559\tvalid_1's auc: 0.789959\n",
      "[200]\ttraining's auc: 0.988416\tvalid_1's auc: 0.82015\n",
      "[300]\ttraining's auc: 0.990631\tvalid_1's auc: 0.828591\n",
      "[400]\ttraining's auc: 0.991643\tvalid_1's auc: 0.836061\n",
      "[500]\ttraining's auc: 0.992345\tvalid_1's auc: 0.840488\n",
      "[600]\ttraining's auc: 0.992796\tvalid_1's auc: 0.84424\n",
      "[700]\ttraining's auc: 0.993616\tvalid_1's auc: 0.846051\n",
      "[800]\ttraining's auc: 0.994294\tvalid_1's auc: 0.84687\n",
      "[900]\ttraining's auc: 0.994791\tvalid_1's auc: 0.847318\n",
      "[1000]\ttraining's auc: 0.995341\tvalid_1's auc: 0.85075\n",
      "[1100]\ttraining's auc: 0.995802\tvalid_1's auc: 0.850622\n",
      "[1200]\ttraining's auc: 0.996279\tvalid_1's auc: 0.850906\n",
      "[1300]\ttraining's auc: 0.996489\tvalid_1's auc: 0.850992\n",
      "[1400]\ttraining's auc: 0.996699\tvalid_1's auc: 0.850415\n",
      "[1500]\ttraining's auc: 0.996918\tvalid_1's auc: 0.848893\n",
      "[1600]\ttraining's auc: 0.997121\tvalid_1's auc: 0.848518\n",
      "[1700]\ttraining's auc: 0.997319\tvalid_1's auc: 0.848686\n",
      "[1800]\ttraining's auc: 0.997453\tvalid_1's auc: 0.848018\n",
      "[1900]\ttraining's auc: 0.997667\tvalid_1's auc: 0.848309\n",
      "[2000]\ttraining's auc: 0.997843\tvalid_1's auc: 0.848029\n",
      "[2100]\ttraining's auc: 0.997958\tvalid_1's auc: 0.848509\n",
      "Early stopping, best iteration is:\n",
      "[1151]\ttraining's auc: 0.996124\tvalid_1's auc: 0.851627\n"
     ]
    },
    {
     "name": "stderr",
     "output_type": "stream",
     "text": [
      "/Library/Frameworks/Python.framework/Versions/3.6/lib/python3.6/site-packages/sklearn/utils/validation.py:761: DataConversionWarning: A column-vector y was passed when a 1d array was expected. Please change the shape of y to (n_samples, ), for example using ravel().\n",
      "  y = column_or_1d(y, warn=True)\n"
     ]
    },
    {
     "name": "stdout",
     "output_type": "stream",
     "text": [
      "Training until validation scores don't improve for 1000 rounds.\n",
      "[100]\ttraining's auc: 0.978347\tvalid_1's auc: 0.804166\n",
      "[200]\ttraining's auc: 0.989053\tvalid_1's auc: 0.829347\n",
      "[300]\ttraining's auc: 0.991399\tvalid_1's auc: 0.834255\n",
      "[400]\ttraining's auc: 0.992432\tvalid_1's auc: 0.836523\n",
      "[500]\ttraining's auc: 0.993521\tvalid_1's auc: 0.839581\n",
      "[600]\ttraining's auc: 0.994114\tvalid_1's auc: 0.841294\n",
      "[700]\ttraining's auc: 0.994795\tvalid_1's auc: 0.843663\n",
      "[800]\ttraining's auc: 0.995204\tvalid_1's auc: 0.843636\n",
      "[900]\ttraining's auc: 0.995479\tvalid_1's auc: 0.844403\n",
      "[1000]\ttraining's auc: 0.995891\tvalid_1's auc: 0.847871\n",
      "[1100]\ttraining's auc: 0.996186\tvalid_1's auc: 0.849213\n",
      "[1200]\ttraining's auc: 0.996501\tvalid_1's auc: 0.849658\n",
      "[1300]\ttraining's auc: 0.996736\tvalid_1's auc: 0.850053\n",
      "[1400]\ttraining's auc: 0.996769\tvalid_1's auc: 0.850153\n",
      "[1500]\ttraining's auc: 0.997062\tvalid_1's auc: 0.851125\n",
      "[1600]\ttraining's auc: 0.997238\tvalid_1's auc: 0.85144\n",
      "[1700]\ttraining's auc: 0.997391\tvalid_1's auc: 0.852055\n",
      "[1800]\ttraining's auc: 0.997534\tvalid_1's auc: 0.852248\n",
      "[1900]\ttraining's auc: 0.997724\tvalid_1's auc: 0.852316\n",
      "[2000]\ttraining's auc: 0.997888\tvalid_1's auc: 0.853124\n",
      "[2100]\ttraining's auc: 0.998001\tvalid_1's auc: 0.853799\n",
      "[2200]\ttraining's auc: 0.998095\tvalid_1's auc: 0.853683\n",
      "[2300]\ttraining's auc: 0.998247\tvalid_1's auc: 0.854607\n",
      "[2400]\ttraining's auc: 0.99834\tvalid_1's auc: 0.854415\n",
      "[2500]\ttraining's auc: 0.99842\tvalid_1's auc: 0.855507\n",
      "[2600]\ttraining's auc: 0.998513\tvalid_1's auc: 0.855258\n",
      "[2700]\ttraining's auc: 0.998603\tvalid_1's auc: 0.855751\n",
      "[2800]\ttraining's auc: 0.998696\tvalid_1's auc: 0.855614\n",
      "[2900]\ttraining's auc: 0.99877\tvalid_1's auc: 0.856111\n",
      "[3000]\ttraining's auc: 0.998842\tvalid_1's auc: 0.856369\n",
      "[3100]\ttraining's auc: 0.998931\tvalid_1's auc: 0.856771\n",
      "[3200]\ttraining's auc: 0.998972\tvalid_1's auc: 0.856997\n",
      "[3300]\ttraining's auc: 0.999044\tvalid_1's auc: 0.856762\n",
      "[3400]\ttraining's auc: 0.999102\tvalid_1's auc: 0.857424\n",
      "[3500]\ttraining's auc: 0.999155\tvalid_1's auc: 0.858026\n",
      "[3600]\ttraining's auc: 0.999207\tvalid_1's auc: 0.858576\n",
      "[3700]\ttraining's auc: 0.999252\tvalid_1's auc: 0.858747\n",
      "[3800]\ttraining's auc: 0.999301\tvalid_1's auc: 0.859009\n",
      "[3900]\ttraining's auc: 0.999343\tvalid_1's auc: 0.858851\n",
      "[4000]\ttraining's auc: 0.999388\tvalid_1's auc: 0.858696\n",
      "[4100]\ttraining's auc: 0.999427\tvalid_1's auc: 0.858384\n",
      "[4200]\ttraining's auc: 0.999471\tvalid_1's auc: 0.858524\n",
      "[4300]\ttraining's auc: 0.999506\tvalid_1's auc: 0.85876\n",
      "[4400]\ttraining's auc: 0.999539\tvalid_1's auc: 0.859074\n",
      "[4500]\ttraining's auc: 0.999568\tvalid_1's auc: 0.859024\n",
      "[4600]\ttraining's auc: 0.999599\tvalid_1's auc: 0.859078\n",
      "[4700]\ttraining's auc: 0.999625\tvalid_1's auc: 0.859598\n",
      "[4800]\ttraining's auc: 0.999648\tvalid_1's auc: 0.85981\n",
      "[4900]\ttraining's auc: 0.999671\tvalid_1's auc: 0.859813\n",
      "[5000]\ttraining's auc: 0.999696\tvalid_1's auc: 0.860218\n",
      "[5100]\ttraining's auc: 0.999711\tvalid_1's auc: 0.860432\n",
      "[5200]\ttraining's auc: 0.99973\tvalid_1's auc: 0.860529\n",
      "[5300]\ttraining's auc: 0.999748\tvalid_1's auc: 0.859845\n",
      "[5400]\ttraining's auc: 0.999764\tvalid_1's auc: 0.859695\n",
      "[5500]\ttraining's auc: 0.999779\tvalid_1's auc: 0.859656\n",
      "[5600]\ttraining's auc: 0.999793\tvalid_1's auc: 0.859465\n",
      "[5700]\ttraining's auc: 0.999807\tvalid_1's auc: 0.859362\n",
      "[5800]\ttraining's auc: 0.999815\tvalid_1's auc: 0.859498\n",
      "[5900]\ttraining's auc: 0.999831\tvalid_1's auc: 0.859988\n",
      "[6000]\ttraining's auc: 0.999838\tvalid_1's auc: 0.860184\n",
      "[6100]\ttraining's auc: 0.99985\tvalid_1's auc: 0.860256\n",
      "Early stopping, best iteration is:\n",
      "[5181]\ttraining's auc: 0.999726\tvalid_1's auc: 0.860626\n"
     ]
    },
    {
     "name": "stderr",
     "output_type": "stream",
     "text": [
      "/Library/Frameworks/Python.framework/Versions/3.6/lib/python3.6/site-packages/sklearn/utils/validation.py:761: DataConversionWarning: A column-vector y was passed when a 1d array was expected. Please change the shape of y to (n_samples, ), for example using ravel().\n",
      "  y = column_or_1d(y, warn=True)\n"
     ]
    },
    {
     "name": "stdout",
     "output_type": "stream",
     "text": [
      "Training until validation scores don't improve for 1000 rounds.\n",
      "[100]\ttraining's auc: 0.978246\tvalid_1's auc: 0.80631\n",
      "[200]\ttraining's auc: 0.986373\tvalid_1's auc: 0.832478\n",
      "[300]\ttraining's auc: 0.98901\tvalid_1's auc: 0.840439\n",
      "[400]\ttraining's auc: 0.990584\tvalid_1's auc: 0.844272\n",
      "[500]\ttraining's auc: 0.991665\tvalid_1's auc: 0.849552\n",
      "[600]\ttraining's auc: 0.992447\tvalid_1's auc: 0.85394\n",
      "[700]\ttraining's auc: 0.993378\tvalid_1's auc: 0.857567\n",
      "[800]\ttraining's auc: 0.99394\tvalid_1's auc: 0.858833\n",
      "[900]\ttraining's auc: 0.994001\tvalid_1's auc: 0.86094\n",
      "[1000]\ttraining's auc: 0.994391\tvalid_1's auc: 0.862319\n",
      "[1100]\ttraining's auc: 0.994888\tvalid_1's auc: 0.862566\n",
      "[1200]\ttraining's auc: 0.995321\tvalid_1's auc: 0.863582\n",
      "[1300]\ttraining's auc: 0.995678\tvalid_1's auc: 0.864005\n",
      "[1400]\ttraining's auc: 0.995791\tvalid_1's auc: 0.86439\n",
      "[1500]\ttraining's auc: 0.996117\tvalid_1's auc: 0.864057\n",
      "[1600]\ttraining's auc: 0.99636\tvalid_1's auc: 0.864451\n",
      "[1700]\ttraining's auc: 0.996588\tvalid_1's auc: 0.864215\n",
      "[1800]\ttraining's auc: 0.996773\tvalid_1's auc: 0.864252\n",
      "[1900]\ttraining's auc: 0.99693\tvalid_1's auc: 0.865265\n",
      "[2000]\ttraining's auc: 0.997143\tvalid_1's auc: 0.86503\n",
      "[2100]\ttraining's auc: 0.997304\tvalid_1's auc: 0.865082\n",
      "[2200]\ttraining's auc: 0.997489\tvalid_1's auc: 0.86545\n",
      "[2300]\ttraining's auc: 0.99765\tvalid_1's auc: 0.866045\n",
      "[2400]\ttraining's auc: 0.997843\tvalid_1's auc: 0.866713\n",
      "[2500]\ttraining's auc: 0.997925\tvalid_1's auc: 0.867505\n",
      "[2600]\ttraining's auc: 0.998059\tvalid_1's auc: 0.867377\n",
      "[2700]\ttraining's auc: 0.998143\tvalid_1's auc: 0.867612\n",
      "[2800]\ttraining's auc: 0.99822\tvalid_1's auc: 0.867639\n",
      "[2900]\ttraining's auc: 0.998339\tvalid_1's auc: 0.867549\n",
      "[3000]\ttraining's auc: 0.998438\tvalid_1's auc: 0.867084\n",
      "[3100]\ttraining's auc: 0.99855\tvalid_1's auc: 0.867243\n",
      "[3200]\ttraining's auc: 0.998644\tvalid_1's auc: 0.867087\n",
      "[3300]\ttraining's auc: 0.998701\tvalid_1's auc: 0.867271\n",
      "[3400]\ttraining's auc: 0.998777\tvalid_1's auc: 0.86778\n",
      "[3500]\ttraining's auc: 0.998853\tvalid_1's auc: 0.868231\n",
      "[3600]\ttraining's auc: 0.998938\tvalid_1's auc: 0.867908\n",
      "[3700]\ttraining's auc: 0.999023\tvalid_1's auc: 0.868061\n",
      "[3800]\ttraining's auc: 0.999068\tvalid_1's auc: 0.868382\n",
      "[3900]\ttraining's auc: 0.999113\tvalid_1's auc: 0.868891\n",
      "[4000]\ttraining's auc: 0.999159\tvalid_1's auc: 0.869084\n",
      "[4100]\ttraining's auc: 0.999194\tvalid_1's auc: 0.869444\n",
      "[4200]\ttraining's auc: 0.999252\tvalid_1's auc: 0.869551\n",
      "[4300]\ttraining's auc: 0.999319\tvalid_1's auc: 0.869895\n",
      "[4400]\ttraining's auc: 0.999351\tvalid_1's auc: 0.869822\n",
      "[4500]\ttraining's auc: 0.999375\tvalid_1's auc: 0.87019\n",
      "[4600]\ttraining's auc: 0.999406\tvalid_1's auc: 0.870316\n",
      "[4700]\ttraining's auc: 0.999446\tvalid_1's auc: 0.870614\n",
      "[4800]\ttraining's auc: 0.999477\tvalid_1's auc: 0.870541\n",
      "[4900]\ttraining's auc: 0.999499\tvalid_1's auc: 0.870457\n",
      "[5000]\ttraining's auc: 0.999527\tvalid_1's auc: 0.870574\n",
      "[5100]\ttraining's auc: 0.999553\tvalid_1's auc: 0.870494\n",
      "[5200]\ttraining's auc: 0.999578\tvalid_1's auc: 0.870308\n",
      "[5300]\ttraining's auc: 0.9996\tvalid_1's auc: 0.870355\n",
      "[5400]\ttraining's auc: 0.999641\tvalid_1's auc: 0.870452\n",
      "[5500]\ttraining's auc: 0.999665\tvalid_1's auc: 0.870545\n",
      "[5600]\ttraining's auc: 0.999689\tvalid_1's auc: 0.870535\n",
      "[5700]\ttraining's auc: 0.99971\tvalid_1's auc: 0.870858\n",
      "[5800]\ttraining's auc: 0.99973\tvalid_1's auc: 0.87097\n",
      "[5900]\ttraining's auc: 0.999747\tvalid_1's auc: 0.871073\n",
      "[6000]\ttraining's auc: 0.999765\tvalid_1's auc: 0.871326\n",
      "[6100]\ttraining's auc: 0.999783\tvalid_1's auc: 0.871588\n",
      "[6200]\ttraining's auc: 0.999795\tvalid_1's auc: 0.871604\n",
      "[6300]\ttraining's auc: 0.999806\tvalid_1's auc: 0.87173\n",
      "[6400]\ttraining's auc: 0.999821\tvalid_1's auc: 0.871728\n",
      "[6500]\ttraining's auc: 0.999834\tvalid_1's auc: 0.872121\n",
      "[6600]\ttraining's auc: 0.999846\tvalid_1's auc: 0.872121\n",
      "[6700]\ttraining's auc: 0.999855\tvalid_1's auc: 0.872056\n",
      "[6800]\ttraining's auc: 0.999866\tvalid_1's auc: 0.872021\n",
      "[6900]\ttraining's auc: 0.999875\tvalid_1's auc: 0.87191\n",
      "[7000]\ttraining's auc: 0.999886\tvalid_1's auc: 0.87177\n",
      "[7100]\ttraining's auc: 0.999895\tvalid_1's auc: 0.871668\n",
      "[7200]\ttraining's auc: 0.999905\tvalid_1's auc: 0.871606\n",
      "[7300]\ttraining's auc: 0.999912\tvalid_1's auc: 0.871708\n",
      "[7400]\ttraining's auc: 0.999919\tvalid_1's auc: 0.871771\n",
      "[7500]\ttraining's auc: 0.999926\tvalid_1's auc: 0.871854\n",
      "Early stopping, best iteration is:\n",
      "[6525]\ttraining's auc: 0.999838\tvalid_1's auc: 0.872284\n"
     ]
    }
   ],
   "source": [
    "random_over = k_fold_train(train_x,train_y,'random_over_sample')"
   ]
  },
  {
   "cell_type": "code",
   "execution_count": 18,
   "metadata": {
    "scrolled": true
   },
   "outputs": [
    {
     "name": "stderr",
     "output_type": "stream",
     "text": [
      "/Library/Frameworks/Python.framework/Versions/3.6/lib/python3.6/site-packages/sklearn/utils/validation.py:761: DataConversionWarning: A column-vector y was passed when a 1d array was expected. Please change the shape of y to (n_samples, ), for example using ravel().\n",
      "  y = column_or_1d(y, warn=True)\n"
     ]
    },
    {
     "name": "stdout",
     "output_type": "stream",
     "text": [
      "Training until validation scores don't improve for 1000 rounds.\n",
      "[100]\ttraining's auc: 0.948115\tvalid_1's auc: 0.669083\n",
      "[200]\ttraining's auc: 0.958149\tvalid_1's auc: 0.697361\n",
      "[300]\ttraining's auc: 0.96196\tvalid_1's auc: 0.703603\n",
      "[400]\ttraining's auc: 0.963923\tvalid_1's auc: 0.700569\n",
      "[500]\ttraining's auc: 0.965633\tvalid_1's auc: 0.70222\n",
      "[600]\ttraining's auc: 0.967038\tvalid_1's auc: 0.701059\n",
      "[700]\ttraining's auc: 0.968068\tvalid_1's auc: 0.701145\n",
      "[800]\ttraining's auc: 0.969653\tvalid_1's auc: 0.700848\n",
      "[900]\ttraining's auc: 0.970153\tvalid_1's auc: 0.700833\n",
      "[1000]\ttraining's auc: 0.970677\tvalid_1's auc: 0.703039\n",
      "[1100]\ttraining's auc: 0.971247\tvalid_1's auc: 0.704661\n",
      "[1200]\ttraining's auc: 0.972212\tvalid_1's auc: 0.706602\n",
      "[1300]\ttraining's auc: 0.972979\tvalid_1's auc: 0.707559\n",
      "[1400]\ttraining's auc: 0.973658\tvalid_1's auc: 0.709261\n",
      "[1500]\ttraining's auc: 0.974412\tvalid_1's auc: 0.70923\n",
      "[1600]\ttraining's auc: 0.975047\tvalid_1's auc: 0.709092\n",
      "[1700]\ttraining's auc: 0.975497\tvalid_1's auc: 0.70987\n",
      "[1800]\ttraining's auc: 0.975828\tvalid_1's auc: 0.709242\n",
      "[1900]\ttraining's auc: 0.976266\tvalid_1's auc: 0.709124\n",
      "[2000]\ttraining's auc: 0.976991\tvalid_1's auc: 0.709313\n",
      "[2100]\ttraining's auc: 0.977607\tvalid_1's auc: 0.710318\n",
      "[2200]\ttraining's auc: 0.978056\tvalid_1's auc: 0.709997\n",
      "[2300]\ttraining's auc: 0.978432\tvalid_1's auc: 0.709966\n",
      "[2400]\ttraining's auc: 0.979082\tvalid_1's auc: 0.709269\n",
      "[2500]\ttraining's auc: 0.979494\tvalid_1's auc: 0.710891\n",
      "[2600]\ttraining's auc: 0.979848\tvalid_1's auc: 0.711438\n",
      "[2700]\ttraining's auc: 0.98033\tvalid_1's auc: 0.711984\n",
      "[2800]\ttraining's auc: 0.980621\tvalid_1's auc: 0.712623\n",
      "[2900]\ttraining's auc: 0.981067\tvalid_1's auc: 0.713181\n",
      "[3000]\ttraining's auc: 0.981539\tvalid_1's auc: 0.714645\n",
      "[3100]\ttraining's auc: 0.982012\tvalid_1's auc: 0.714665\n",
      "[3200]\ttraining's auc: 0.982469\tvalid_1's auc: 0.715335\n",
      "[3300]\ttraining's auc: 0.982882\tvalid_1's auc: 0.715671\n",
      "[3400]\ttraining's auc: 0.983315\tvalid_1's auc: 0.716445\n",
      "[3500]\ttraining's auc: 0.983757\tvalid_1's auc: 0.717222\n",
      "[3600]\ttraining's auc: 0.984138\tvalid_1's auc: 0.718391\n",
      "[3700]\ttraining's auc: 0.984524\tvalid_1's auc: 0.719521\n",
      "[3800]\ttraining's auc: 0.984923\tvalid_1's auc: 0.720216\n",
      "[3900]\ttraining's auc: 0.985292\tvalid_1's auc: 0.720923\n",
      "[4000]\ttraining's auc: 0.985641\tvalid_1's auc: 0.722384\n",
      "[4100]\ttraining's auc: 0.986008\tvalid_1's auc: 0.722372\n",
      "[4200]\ttraining's auc: 0.986359\tvalid_1's auc: 0.723013\n",
      "[4300]\ttraining's auc: 0.986717\tvalid_1's auc: 0.7241\n",
      "[4400]\ttraining's auc: 0.987074\tvalid_1's auc: 0.724283\n",
      "[4500]\ttraining's auc: 0.987343\tvalid_1's auc: 0.724524\n",
      "[4600]\ttraining's auc: 0.987708\tvalid_1's auc: 0.725887\n",
      "[4700]\ttraining's auc: 0.988061\tvalid_1's auc: 0.727275\n",
      "[4800]\ttraining's auc: 0.988395\tvalid_1's auc: 0.729087\n",
      "[4900]\ttraining's auc: 0.988663\tvalid_1's auc: 0.730031\n",
      "[5000]\ttraining's auc: 0.988949\tvalid_1's auc: 0.730678\n",
      "[5100]\ttraining's auc: 0.989226\tvalid_1's auc: 0.731428\n",
      "[5200]\ttraining's auc: 0.989528\tvalid_1's auc: 0.732766\n",
      "[5300]\ttraining's auc: 0.98982\tvalid_1's auc: 0.733414\n",
      "[5400]\ttraining's auc: 0.990104\tvalid_1's auc: 0.733732\n",
      "[5500]\ttraining's auc: 0.990388\tvalid_1's auc: 0.734852\n",
      "[5600]\ttraining's auc: 0.99073\tvalid_1's auc: 0.736025\n",
      "[5700]\ttraining's auc: 0.990982\tvalid_1's auc: 0.737351\n",
      "[5800]\ttraining's auc: 0.991229\tvalid_1's auc: 0.737892\n",
      "[5900]\ttraining's auc: 0.991506\tvalid_1's auc: 0.738309\n",
      "[6000]\ttraining's auc: 0.991751\tvalid_1's auc: 0.738501\n",
      "[6100]\ttraining's auc: 0.992\tvalid_1's auc: 0.739768\n",
      "[6200]\ttraining's auc: 0.99223\tvalid_1's auc: 0.740602\n",
      "[6300]\ttraining's auc: 0.992478\tvalid_1's auc: 0.741229\n",
      "[6400]\ttraining's auc: 0.9927\tvalid_1's auc: 0.742205\n",
      "[6500]\ttraining's auc: 0.992922\tvalid_1's auc: 0.74287\n",
      "[6600]\ttraining's auc: 0.993139\tvalid_1's auc: 0.743783\n",
      "[6700]\ttraining's auc: 0.993365\tvalid_1's auc: 0.744553\n",
      "[6800]\ttraining's auc: 0.993558\tvalid_1's auc: 0.744799\n",
      "[6900]\ttraining's auc: 0.993768\tvalid_1's auc: 0.745456\n",
      "[7000]\ttraining's auc: 0.994012\tvalid_1's auc: 0.746323\n",
      "[7100]\ttraining's auc: 0.994197\tvalid_1's auc: 0.747229\n",
      "[7200]\ttraining's auc: 0.994369\tvalid_1's auc: 0.747754\n",
      "[7300]\ttraining's auc: 0.994558\tvalid_1's auc: 0.748338\n",
      "[7400]\ttraining's auc: 0.994706\tvalid_1's auc: 0.748653\n",
      "[7500]\ttraining's auc: 0.994871\tvalid_1's auc: 0.749715\n",
      "[7600]\ttraining's auc: 0.995041\tvalid_1's auc: 0.750232\n",
      "[7700]\ttraining's auc: 0.995209\tvalid_1's auc: 0.75112\n",
      "[7800]\ttraining's auc: 0.995367\tvalid_1's auc: 0.751317\n",
      "[7900]\ttraining's auc: 0.995524\tvalid_1's auc: 0.75182\n",
      "[8000]\ttraining's auc: 0.995664\tvalid_1's auc: 0.752379\n",
      "[8100]\ttraining's auc: 0.995829\tvalid_1's auc: 0.753083\n",
      "[8200]\ttraining's auc: 0.995976\tvalid_1's auc: 0.753631\n",
      "[8300]\ttraining's auc: 0.9961\tvalid_1's auc: 0.754367\n",
      "[8400]\ttraining's auc: 0.99622\tvalid_1's auc: 0.754971\n",
      "[8500]\ttraining's auc: 0.99635\tvalid_1's auc: 0.755557\n",
      "[8600]\ttraining's auc: 0.996489\tvalid_1's auc: 0.756392\n",
      "[8700]\ttraining's auc: 0.996621\tvalid_1's auc: 0.756914\n",
      "[8800]\ttraining's auc: 0.996739\tvalid_1's auc: 0.756991\n",
      "[8900]\ttraining's auc: 0.996854\tvalid_1's auc: 0.75742\n",
      "[9000]\ttraining's auc: 0.996979\tvalid_1's auc: 0.757717\n",
      "[9100]\ttraining's auc: 0.997113\tvalid_1's auc: 0.757896\n",
      "[9200]\ttraining's auc: 0.997205\tvalid_1's auc: 0.758364\n",
      "[9300]\ttraining's auc: 0.997295\tvalid_1's auc: 0.758808\n",
      "[9400]\ttraining's auc: 0.9974\tvalid_1's auc: 0.759215\n",
      "[9500]\ttraining's auc: 0.997494\tvalid_1's auc: 0.759787\n",
      "[9600]\ttraining's auc: 0.997583\tvalid_1's auc: 0.760225\n",
      "[9700]\ttraining's auc: 0.997671\tvalid_1's auc: 0.760654\n",
      "[9800]\ttraining's auc: 0.997755\tvalid_1's auc: 0.760993\n",
      "[9900]\ttraining's auc: 0.997829\tvalid_1's auc: 0.761581\n",
      "[10000]\ttraining's auc: 0.997903\tvalid_1's auc: 0.762072\n",
      "[10100]\ttraining's auc: 0.997981\tvalid_1's auc: 0.762632\n",
      "[10200]\ttraining's auc: 0.99806\tvalid_1's auc: 0.762693\n",
      "[10300]\ttraining's auc: 0.998143\tvalid_1's auc: 0.763178\n",
      "[10400]\ttraining's auc: 0.998221\tvalid_1's auc: 0.763752\n",
      "[10500]\ttraining's auc: 0.998298\tvalid_1's auc: 0.764324\n",
      "[10600]\ttraining's auc: 0.998369\tvalid_1's auc: 0.764857\n",
      "[10700]\ttraining's auc: 0.998427\tvalid_1's auc: 0.765293\n",
      "[10800]\ttraining's auc: 0.998495\tvalid_1's auc: 0.765916\n",
      "[10900]\ttraining's auc: 0.998558\tvalid_1's auc: 0.766528\n",
      "[11000]\ttraining's auc: 0.998605\tvalid_1's auc: 0.766538\n",
      "[11100]\ttraining's auc: 0.99866\tvalid_1's auc: 0.766931\n",
      "[11200]\ttraining's auc: 0.99872\tvalid_1's auc: 0.76714\n",
      "[11300]\ttraining's auc: 0.998768\tvalid_1's auc: 0.767584\n",
      "[11400]\ttraining's auc: 0.998821\tvalid_1's auc: 0.76791\n",
      "[11500]\ttraining's auc: 0.998871\tvalid_1's auc: 0.768011\n",
      "[11600]\ttraining's auc: 0.998918\tvalid_1's auc: 0.768301\n",
      "[11700]\ttraining's auc: 0.99898\tvalid_1's auc: 0.768636\n",
      "[11800]\ttraining's auc: 0.999031\tvalid_1's auc: 0.769102\n",
      "[11900]\ttraining's auc: 0.999069\tvalid_1's auc: 0.769571\n",
      "[12000]\ttraining's auc: 0.999108\tvalid_1's auc: 0.77009\n",
      "[12100]\ttraining's auc: 0.999151\tvalid_1's auc: 0.770447\n",
      "[12200]\ttraining's auc: 0.99919\tvalid_1's auc: 0.77053\n",
      "[12300]\ttraining's auc: 0.999229\tvalid_1's auc: 0.770801\n",
      "[12400]\ttraining's auc: 0.999262\tvalid_1's auc: 0.770883\n",
      "[12500]\ttraining's auc: 0.999289\tvalid_1's auc: 0.771234\n",
      "[12600]\ttraining's auc: 0.999325\tvalid_1's auc: 0.771465\n",
      "[12700]\ttraining's auc: 0.999359\tvalid_1's auc: 0.77146\n",
      "[12800]\ttraining's auc: 0.999392\tvalid_1's auc: 0.77178\n"
     ]
    },
    {
     "ename": "KeyboardInterrupt",
     "evalue": "",
     "output_type": "error",
     "traceback": [
      "\u001b[0;31m--------------------------------------------------------------\u001b[0m",
      "\u001b[0;31mKeyboardInterrupt\u001b[0m            Traceback (most recent call last)",
      "\u001b[0;32m<ipython-input-18-af20596cf292>\u001b[0m in \u001b[0;36m<module>\u001b[0;34m()\u001b[0m\n\u001b[0;32m----> 1\u001b[0;31m \u001b[0msmote\u001b[0m \u001b[0;34m=\u001b[0m \u001b[0mk_fold_train\u001b[0m\u001b[0;34m(\u001b[0m\u001b[0mtrain_x\u001b[0m\u001b[0;34m,\u001b[0m\u001b[0mtrain_y\u001b[0m\u001b[0;34m,\u001b[0m\u001b[0;34m'smote'\u001b[0m\u001b[0;34m)\u001b[0m\u001b[0;34m\u001b[0m\u001b[0m\n\u001b[0m",
      "\u001b[0;32m<ipython-input-9-80f3755178e3>\u001b[0m in \u001b[0;36mk_fold_train\u001b[0;34m(x, y, sample_method, sample_ratio)\u001b[0m\n\u001b[1;32m     26\u001b[0m \u001b[0;34m\u001b[0m\u001b[0m\n\u001b[1;32m     27\u001b[0m         model = lgb.train(param,train_set=train_data,num_boost_round=100000,verbose_eval = 100,\n\u001b[0;32m---> 28\u001b[0;31m                           early_stopping_rounds=1000,valid_sets = [train_data,val_data])\n\u001b[0m\u001b[1;32m     29\u001b[0m         \u001b[0mmodels\u001b[0m\u001b[0;34m.\u001b[0m\u001b[0mappend\u001b[0m\u001b[0;34m(\u001b[0m\u001b[0mmodel\u001b[0m\u001b[0;34m)\u001b[0m\u001b[0;34m\u001b[0m\u001b[0m\n\u001b[1;32m     30\u001b[0m     \u001b[0;32mreturn\u001b[0m\u001b[0;34m(\u001b[0m\u001b[0mmodels\u001b[0m\u001b[0;34m)\u001b[0m\u001b[0;34m\u001b[0m\u001b[0m\n",
      "\u001b[0;32m/Library/Frameworks/Python.framework/Versions/3.6/lib/python3.6/site-packages/lightgbm/engine.py\u001b[0m in \u001b[0;36mtrain\u001b[0;34m(params, train_set, num_boost_round, valid_sets, valid_names, fobj, feval, init_model, feature_name, categorical_feature, early_stopping_rounds, evals_result, verbose_eval, learning_rates, keep_training_booster, callbacks)\u001b[0m\n\u001b[1;32m    216\u001b[0m                                     evaluation_result_list=None))\n\u001b[1;32m    217\u001b[0m \u001b[0;34m\u001b[0m\u001b[0m\n\u001b[0;32m--> 218\u001b[0;31m         \u001b[0mbooster\u001b[0m\u001b[0;34m.\u001b[0m\u001b[0mupdate\u001b[0m\u001b[0;34m(\u001b[0m\u001b[0mfobj\u001b[0m\u001b[0;34m=\u001b[0m\u001b[0mfobj\u001b[0m\u001b[0;34m)\u001b[0m\u001b[0;34m\u001b[0m\u001b[0m\n\u001b[0m\u001b[1;32m    219\u001b[0m \u001b[0;34m\u001b[0m\u001b[0m\n\u001b[1;32m    220\u001b[0m         \u001b[0mevaluation_result_list\u001b[0m \u001b[0;34m=\u001b[0m \u001b[0;34m[\u001b[0m\u001b[0;34m]\u001b[0m\u001b[0;34m\u001b[0m\u001b[0m\n",
      "\u001b[0;32m/Library/Frameworks/Python.framework/Versions/3.6/lib/python3.6/site-packages/lightgbm/basic.py\u001b[0m in \u001b[0;36mupdate\u001b[0;34m(self, train_set, fobj)\u001b[0m\n\u001b[1;32m   1800\u001b[0m             _safe_call(_LIB.LGBM_BoosterUpdateOneIter(\n\u001b[1;32m   1801\u001b[0m                 \u001b[0mself\u001b[0m\u001b[0;34m.\u001b[0m\u001b[0mhandle\u001b[0m\u001b[0;34m,\u001b[0m\u001b[0;34m\u001b[0m\u001b[0m\n\u001b[0;32m-> 1802\u001b[0;31m                 ctypes.byref(is_finished)))\n\u001b[0m\u001b[1;32m   1803\u001b[0m             \u001b[0mself\u001b[0m\u001b[0;34m.\u001b[0m\u001b[0m__is_predicted_cur_iter\u001b[0m \u001b[0;34m=\u001b[0m \u001b[0;34m[\u001b[0m\u001b[0;32mFalse\u001b[0m \u001b[0;32mfor\u001b[0m \u001b[0m_\u001b[0m \u001b[0;32min\u001b[0m \u001b[0mrange_\u001b[0m\u001b[0;34m(\u001b[0m\u001b[0mself\u001b[0m\u001b[0;34m.\u001b[0m\u001b[0m__num_dataset\u001b[0m\u001b[0;34m)\u001b[0m\u001b[0;34m]\u001b[0m\u001b[0;34m\u001b[0m\u001b[0m\n\u001b[1;32m   1804\u001b[0m             \u001b[0;32mreturn\u001b[0m \u001b[0mis_finished\u001b[0m\u001b[0;34m.\u001b[0m\u001b[0mvalue\u001b[0m \u001b[0;34m==\u001b[0m \u001b[0;36m1\u001b[0m\u001b[0;34m\u001b[0m\u001b[0m\n",
      "\u001b[0;31mKeyboardInterrupt\u001b[0m: "
     ]
    }
   ],
   "source": [
    "smote = k_fold_train(train_x,train_y,'smote')"
   ]
  },
  {
   "cell_type": "code",
   "execution_count": null,
   "metadata": {},
   "outputs": [],
   "source": []
  },
  {
   "cell_type": "code",
   "execution_count": 12,
   "metadata": {},
   "outputs": [],
   "source": [
    "def plotGraph(df):\n",
    "    predicts_list = df.columns[1:]\n",
    "    aucs = pd.DataFrame(columns=['models','auc_score'])\n",
    "    y = df['label']\n",
    "    for res in predicts_list:\n",
    "        fpr,tpr,thres = roc_curve(y,df[res])\n",
    "        auc_score = auc(fpr,tpr)\n",
    "        aucs = aucs.append({'models':res,'auc_score':auc_score},ignore_index=True)\n",
    "        \n",
    "        plt.plot(fpr,tpr,lw=1, alpha=0.3,label = res+' : '+str(round(auc_score,3)))\n",
    "    \n",
    "    plt.legend(loc='lower right')\n",
    "    plt.show()\n",
    "    return(aucs)"
   ]
  },
  {
   "cell_type": "code",
   "execution_count": 15,
   "metadata": {},
   "outputs": [],
   "source": [
    "pred = models_list_predict(base_line,test.drop('target',axis=1))\n",
    "\n",
    "result_df = pd.DataFrame()\n",
    "result_df['label'] = test['target']\n",
    "result_df['base'] = pred"
   ]
  },
  {
   "cell_type": "code",
   "execution_count": 16,
   "metadata": {},
   "outputs": [],
   "source": [
    "#pred = random_under.predict(test.drop('target',axis=1))\n",
    "#result_df['random_under'] = pred\n",
    "\n",
    "pred = models_list_predict(random_over,test.drop('target',axis=1))\n",
    "result_df['random_over'] = pred\n",
    "\n",
    "pred = models_list_predict(smote,test.drop('target',axis=1))\n",
    "result_df['smote'] = pred"
   ]
  },
  {
   "cell_type": "code",
   "execution_count": null,
   "metadata": {},
   "outputs": [],
   "source": []
  },
  {
   "cell_type": "code",
   "execution_count": 17,
   "metadata": {},
   "outputs": [
    {
     "data": {
      "image/png": "[encoded data removed]",
      "text/plain": [
       "<Figure size 432x288 with 1 Axes>"
      ]
     },
     "metadata": {},
     "output_type": "display_data"
    },
    {
     "data": {
      "text/html": [
       "<div>\n",
       "<style scoped>\n",
       "    .dataframe tbody tr th:only-of-type {\n",
       "        vertical-align: middle;\n",
       "    }\n",
       "\n",
       "    .dataframe tbody tr th {\n",
       "        vertical-align: top;\n",
       "    }\n",
       "\n",
       "    .dataframe thead th {\n",
       "        text-align: right;\n",
       "    }\n",
       "</style>\n",
       "<table border=\"1\" class=\"dataframe\">\n",
       "  <thead>\n",
       "    <tr style=\"text-align: right;\">\n",
       "      <th></th>\n",
       "      <th>models</th>\n",
       "      <th>auc_score</th>\n",
       "    </tr>\n",
       "  </thead>\n",
       "  <tbody>\n",
       "    <tr>\n",
       "      <th>0</th>\n",
       "      <td>base</td>\n",
       "      <td>0.871098</td>\n",
       "    </tr>\n",
       "    <tr>\n",
       "      <th>1</th>\n",
       "      <td>random_over</td>\n",
       "      <td>0.869940</td>\n",
       "    </tr>\n",
       "  </tbody>\n",
       "</table>\n",
       "</div>"
      ],
      "text/plain": [
       "        models  auc_score\n",
       "0         base   0.871098\n",
       "1  random_over   0.869940"
      ]
     },
     "execution_count": 17,
     "metadata": {},
     "output_type": "execute_result"
    }
   ],
   "source": [
    "plotGraph(result_df)"
   ]
  },
  {
   "cell_type": "code",
   "execution_count": 13,
   "metadata": {
    "scrolled": true
   },
   "outputs": [],
   "source": [
    "#final_pred = combine_pred(x,y,test)\n",
    "final_pred = base_line.predict(test)"
   ]
  },
  {
   "cell_type": "code",
   "execution_count": 14,
   "metadata": {},
   "outputs": [],
   "source": [
    "sub['target'] = final_pred\n",
    "sub.to_csv(\"../data/one_round_base_sub.csv\",index=False)"
   ]
  },
  {
   "cell_type": "code",
   "execution_count": 15,
   "metadata": {},
   "outputs": [
    {
     "data": {
      "text/plain": [
       "array([0.13625695, 0.26293197, 0.18565381, ..., 0.00538264, 0.0696702 ,\n",
       "       0.06835998])"
      ]
     },
     "execution_count": 15,
     "metadata": {},
     "output_type": "execute_result"
    }
   ],
   "source": [
    "final_pred"
   ]
  },
  {
   "cell_type": "code",
   "execution_count": null,
   "metadata": {},
   "outputs": [],
   "source": []
  },
  {
   "cell_type": "code",
   "execution_count": null,
   "metadata": {},
   "outputs": [],
   "source": []
  },
  {
   "cell_type": "code",
   "execution_count": null,
   "metadata": {},
   "outputs": [],
   "source": []
  },
  {
   "cell_type": "code",
   "execution_count": null,
   "metadata": {},
   "outputs": [],
   "source": []
  }
 ],
 "metadata": {
  "kernelspec": {
   "display_name": "Python 3",
   "language": "python",
   "name": "python3"
  },
  "language_info": {
   "codemirror_mode": {
    "name": "ipython",
    "version": 3
   },
   "file_extension": ".py",
   "mimetype": "text/x-python",
   "name": "python",
   "nbconvert_exporter": "python",
   "pygments_lexer": "ipython3",
   "version": "3.6.4"
  }
 },
 "nbformat": 4,
 "nbformat_minor": 2
}
